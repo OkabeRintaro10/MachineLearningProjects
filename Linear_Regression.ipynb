{
 "cells": [
  {
   "cell_type": "code",
   "execution_count": 1,
   "metadata": {},
   "outputs": [],
   "source": [
    "import pandas as pd\n",
    "import numpy as np\n",
    "import matplotlib.pyplot as plt"
   ]
  },
  {
   "cell_type": "code",
   "execution_count": 2,
   "metadata": {},
   "outputs": [],
   "source": [
    "data = np.loadtxt('datasets/houseprice.txt', delimiter=',')"
   ]
  },
  {
   "cell_type": "code",
   "execution_count": 3,
   "metadata": {},
   "outputs": [
    {
     "name": "stdout",
     "output_type": "stream",
     "text": [
      "[2600. 3000. 3200. 3600. 4000. 1500. 1700. 1750. 1800. 1820. 1920. 1450.\n",
      " 1590. 1596. 1623. 1878. 1658. 1720. 1985. 2000. 2100. 2050. 1990. 1965.\n",
      " 1970. 2120. 2200. 2156. 1269. 1489. 1785. 1965. 1948. 2008. 2079. 2116.\n",
      " 2230. 2200. 2220. 2365. 2325. 2396. 2489. 2420. 2398. 2350. 2375. 2236.\n",
      " 2347. 2459.]\n",
      "[[550000.]\n",
      " [565000.]\n",
      " [610000.]\n",
      " [680000.]\n",
      " [725000.]\n",
      " [158900.]\n",
      " [169850.]\n",
      " [178950.]\n",
      " [178650.]\n",
      " [180000.]\n",
      " [186850.]\n",
      " [150000.]\n",
      " [149870.]\n",
      " [158620.]\n",
      " [159990.]\n",
      " [189680.]\n",
      " [168980.]\n",
      " [170000.]\n",
      " [190000.]\n",
      " [198510.]\n",
      " [200000.]\n",
      " [193580.]\n",
      " [200000.]\n",
      " [195180.]\n",
      " [198680.]\n",
      " [201650.]\n",
      " [220000.]\n",
      " [216510.]\n",
      " [138550.]\n",
      " [149850.]\n",
      " [179850.]\n",
      " [196280.]\n",
      " [195680.]\n",
      " [200000.]\n",
      " [205880.]\n",
      " [210000.]\n",
      " [220000.]\n",
      " [219850.]\n",
      " [222000.]\n",
      " [235680.]\n",
      " [239580.]\n",
      " [240000.]\n",
      " [248850.]\n",
      " [245590.]\n",
      " [240000.]\n",
      " [236840.]\n",
      " [230000.]\n",
      " [226260.]\n",
      " [220590.]\n",
      " [239840.]]\n"
     ]
    }
   ],
   "source": [
    "X = data[:, 0]\n",
    "print(X)\n",
    "Y = data[:, 1].reshape(X.size, 1)\n",
    "print(Y)"
   ]
  },
  {
   "cell_type": "code",
   "execution_count": 4,
   "metadata": {},
   "outputs": [
    {
     "name": "stdout",
     "output_type": "stream",
     "text": [
      "(50,)\n",
      "(50, 1)\n"
     ]
    }
   ],
   "source": [
    "print(X.shape)\n",
    "print(Y.shape)"
   ]
  },
  {
   "cell_type": "code",
   "execution_count": 5,
   "metadata": {},
   "outputs": [],
   "source": [
    "X = np.vstack((np.ones((X.size, )), X)).T"
   ]
  },
  {
   "cell_type": "code",
   "execution_count": 6,
   "metadata": {},
   "outputs": [
    {
     "name": "stdout",
     "output_type": "stream",
     "text": [
      "(50, 2)\n",
      "(50, 1)\n"
     ]
    }
   ],
   "source": [
    "print(X.shape)\n",
    "print(Y.shape)"
   ]
  },
  {
   "cell_type": "code",
   "execution_count": 7,
   "metadata": {},
   "outputs": [
    {
     "data": {
      "image/png": "[encoded data removed]",
      "text/plain": [
       "<Figure size 432x288 with 1 Axes>"
      ]
     },
     "metadata": {
      "needs_background": "light"
     },
     "output_type": "display_data"
    }
   ],
   "source": [
    "plt.scatter(X[:, 1], Y)\n",
    "plt.show()"
   ]
  },
  {
   "cell_type": "code",
   "execution_count": 8,
   "metadata": {},
   "outputs": [],
   "source": [
    "def model(X, Y, lr, epochs):\n",
    "    m = Y.size\n",
    "    w = np.zeros((2,1))\n",
    "    cost_list = []\n",
    "\n",
    "    for i in range(epochs):\n",
    "        y_pred = np.dot(X, w)\n",
    "        cost = (1/(2*m))*np.sum(np.square(y_pred - Y))\n",
    "\n",
    "        d_w = (1/m) * np.dot(X.T, y_pred - Y)\n",
    "        w = w - lr*d_w\n",
    "        #d_b = (1/m * np.sum(y_pred - Y))\n",
    "        #b = w-lr*d_b\n",
    "        \n",
    "        cost_list.append(cost)\n",
    "        \n",
    "    return w, cost_list"
   ]
  },
  {
   "cell_type": "code",
   "execution_count": 9,
   "metadata": {},
   "outputs": [],
   "source": [
    "epochs = 100\n",
    "lr = 0.00000001\n",
    "w, cost_list = model(X, Y, lr, epochs)"
   ]
  },
  {
   "cell_type": "code",
   "execution_count": 10,
   "metadata": {},
   "outputs": [
    {
     "name": "stdout",
     "output_type": "stream",
     "text": [
      "Our model predicts the price of house with 1547 sq. ft. area as : $ 184473.4\n",
      "Our model predicts the price of house with 1896 sq. ft. area as : $ 226090.21\n",
      "Our model predicts the price of house with 1934 sq. ft. area as : $ 230621.55\n",
      "Our model predicts the price of house with 2800 sq. ft. area as : $ 333888.47\n",
      "Our model predicts the price of house with 3400 sq. ft. area as : $ 405435.99\n",
      "Our model predicts the price of house with 5000 sq. ft. area as : $ 596229.38\n"
     ]
    }
   ],
   "source": [
    "new_houses = np.array([[1, 1547], [1, 1896], [1, 1934], [1,\n",
    "2800], [1, 3400], [1, 5000]])\n",
    "for house in new_houses :\n",
    "    print(\"Our model predicts the price of house with\",\n",
    "    house[1], \"sq. ft. area as : $\", np.round(np.dot(house, w)[0],\n",
    "    2))"
   ]
  },
  {
   "cell_type": "code",
   "execution_count": 11,
   "metadata": {},
   "outputs": [
    {
     "data": {
      "image/png": "[encoded data removed]",
      "text/plain": [
       "<Figure size 432x288 with 1 Axes>"
      ]
     },
     "metadata": {
      "needs_background": "light"
     },
     "output_type": "display_data"
    }
   ],
   "source": [
    "rng = np.arange(0, epochs)\n",
    "plt.plot(cost_list, rng)\n",
    "plt.show()"
   ]
  }
 ],
 "metadata": {
  "kernelspec": {
   "display_name": "Python 3.10.5 ('MLEnv')",
   "language": "python",
   "name": "python3"
  },
  "language_info": {
   "codemirror_mode": {
    "name": "ipython",
    "version": 3
   },
   "file_extension": ".py",
   "mimetype": "text/x-python",
   "name": "python",
   "nbconvert_exporter": "python",
   "pygments_lexer": "ipython3",
   "version": "3.10.5"
  },
  "orig_nbformat": 4,
  "vscode": {
   "interpreter": {
    "hash": "05bcee58adcf44048299c032d993fbfdfbe1d910d103f67310fbc169a98d7007"
   }
  }
 },
 "nbformat": 4,
 "nbformat_minor": 2
}
