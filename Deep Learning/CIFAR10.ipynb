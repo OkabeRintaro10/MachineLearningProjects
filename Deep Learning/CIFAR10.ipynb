{
 "cells": [
  {
   "cell_type": "code",
   "execution_count": 1,
   "metadata": {},
   "outputs": [],
   "source": [
    "import tensorflow as tf\n",
    "from keras import layers, models, datasets\n",
    "\n",
    "import matplotlib.pyplot as plt"
   ]
  },
  {
   "cell_type": "code",
   "execution_count": 2,
   "metadata": {},
   "outputs": [],
   "source": [
    "(train_images, train_labels), (test_images, test_labels) = datasets.cifar10.load_data()\n",
    "# Loads the data of CIFAR10\n",
    "train_images , test_images = train_images / 255.0, test_images / 255.0 \n",
    "\n",
    "class_names = ['airplane', 'automobile', 'bird', 'cat', 'deer','dog','frog','horse','ship','truck']\n"
   ]
  },
  {
   "cell_type": "code",
   "execution_count": 3,
   "metadata": {},
   "outputs": [
    {
     "data": {
      "image/png": "[encoded data removed]",
      "text/plain": [
       "<Figure size 432x288 with 1 Axes>"
      ]
     },
     "metadata": {
      "needs_background": "light"
     },
     "output_type": "display_data"
    }
   ],
   "source": [
    "IMG_INDEX = 1\n",
    "\n",
    "plt.imshow(train_images[IMG_INDEX], cmap=plt.cm.binary)\n",
    "plt.xlabel(class_names[train_labels[IMG_INDEX][0]])\n",
    "plt.show()\n",
    "#Plotting training data img "
   ]
  },
  {
   "cell_type": "code",
   "execution_count": 4,
   "metadata": {},
   "outputs": [
    {
     "name": "stderr",
     "output_type": "stream",
     "text": [
      "2022-07-04 12:03:25.373168: I tensorflow/core/common_runtime/pluggable_device/pluggable_device_factory.cc:305] Could not identify NUMA node of platform GPU ID 0, defaulting to 0. Your kernel may not have been built with NUMA support.\n",
      "2022-07-04 12:03:25.374041: I tensorflow/core/common_runtime/pluggable_device/pluggable_device_factory.cc:271] Created TensorFlow device (/job:localhost/replica:0/task:0/device:GPU:0 with 0 MB memory) -> physical PluggableDevice (device: 0, name: METAL, pci bus id: <undefined>)\n"
     ]
    },
    {
     "name": "stdout",
     "output_type": "stream",
     "text": [
      "Metal device set to: Apple M1\n",
      "\n",
      "systemMemory: 8.00 GB\n",
      "maxCacheSize: 2.67 GB\n",
      "\n"
     ]
    }
   ],
   "source": [
    "model = models.Sequential()\n",
    "model.add(layers.Conv2D(64 , (3,3), activation='relu', padding='same', input_shape=(32, 32, 3)))\n",
    "model.add(layers.MaxPooling2D((2,2)))\n",
    "model.add(layers.Conv2D(64 , (3,3), activation='relu',padding='same'))\n",
    "model.add(layers.MaxPooling2D((2,2)))\n",
    "model.add(layers.Conv2D(128 , (5,5), activation='relu',padding='same'))\n",
    "model.add(layers.MaxPooling2D((2,2)))\n",
    "model.add(layers.Conv2D(128 , (5,5), activation='relu',padding='same'))"
   ]
  },
  {
   "cell_type": "code",
   "execution_count": 5,
   "metadata": {},
   "outputs": [
    {
     "name": "stdout",
     "output_type": "stream",
     "text": [
      "Model: \"sequential\"\n",
      "_________________________________________________________________\n",
      " Layer (type)                Output Shape              Param #   \n",
      "=================================================================\n",
      " conv2d (Conv2D)             (None, 32, 32, 64)        1792      \n",
      "                                                                 \n",
      " max_pooling2d (MaxPooling2D  (None, 16, 16, 64)       0         \n",
      " )                                                               \n",
      "                                                                 \n",
      " conv2d_1 (Conv2D)           (None, 16, 16, 64)        36928     \n",
      "                                                                 \n",
      " max_pooling2d_1 (MaxPooling  (None, 8, 8, 64)         0         \n",
      " 2D)                                                             \n",
      "                                                                 \n",
      " conv2d_2 (Conv2D)           (None, 8, 8, 128)         204928    \n",
      "                                                                 \n",
      " max_pooling2d_2 (MaxPooling  (None, 4, 4, 128)        0         \n",
      " 2D)                                                             \n",
      "                                                                 \n",
      " conv2d_3 (Conv2D)           (None, 4, 4, 128)         409728    \n",
      "                                                                 \n",
      "=================================================================\n",
      "Total params: 653,376\n",
      "Trainable params: 653,376\n",
      "Non-trainable params: 0\n",
      "_________________________________________________________________\n"
     ]
    }
   ],
   "source": [
    "model.summary()"
   ]
  },
  {
   "cell_type": "code",
   "execution_count": 6,
   "metadata": {},
   "outputs": [],
   "source": [
    "model.add(layers.Flatten())\n",
    "model.add(layers.Dropout(0.2))\n",
    "model.add(layers.Dense(128, activation='relu'))\n",
    "model.add(layers.Dense(10,activation='softmax'))"
   ]
  },
  {
   "cell_type": "code",
   "execution_count": 7,
   "metadata": {},
   "outputs": [
    {
     "name": "stdout",
     "output_type": "stream",
     "text": [
      "Model: \"sequential\"\n",
      "_________________________________________________________________\n",
      " Layer (type)                Output Shape              Param #   \n",
      "=================================================================\n",
      " conv2d (Conv2D)             (None, 32, 32, 64)        1792      \n",
      "                                                                 \n",
      " max_pooling2d (MaxPooling2D  (None, 16, 16, 64)       0         \n",
      " )                                                               \n",
      "                                                                 \n",
      " conv2d_1 (Conv2D)           (None, 16, 16, 64)        36928     \n",
      "                                                                 \n",
      " max_pooling2d_1 (MaxPooling  (None, 8, 8, 64)         0         \n",
      " 2D)                                                             \n",
      "                                                                 \n",
      " conv2d_2 (Conv2D)           (None, 8, 8, 128)         204928    \n",
      "                                                                 \n",
      " max_pooling2d_2 (MaxPooling  (None, 4, 4, 128)        0         \n",
      " 2D)                                                             \n",
      "                                                                 \n",
      " conv2d_3 (Conv2D)           (None, 4, 4, 128)         409728    \n",
      "                                                                 \n",
      " flatten (Flatten)           (None, 2048)              0         \n",
      "                                                                 \n",
      " dropout (Dropout)           (None, 2048)              0         \n",
      "                                                                 \n",
      " dense (Dense)               (None, 128)               262272    \n",
      "                                                                 \n",
      " dense_1 (Dense)             (None, 10)                1290      \n",
      "                                                                 \n",
      "=================================================================\n",
      "Total params: 916,938\n",
      "Trainable params: 916,938\n",
      "Non-trainable params: 0\n",
      "_________________________________________________________________\n"
     ]
    }
   ],
   "source": [
    "model.summary()"
   ]
  },
  {
   "cell_type": "code",
   "execution_count": 8,
   "metadata": {},
   "outputs": [
    {
     "name": "stdout",
     "output_type": "stream",
     "text": [
      "Epoch 1/25\n"
     ]
    },
    {
     "name": "stderr",
     "output_type": "stream",
     "text": [
      "2022-07-04 12:03:27.443286: W tensorflow/core/platform/profile_utils/cpu_utils.cc:128] Failed to get CPU frequency: 0 Hz\n",
      "2022-07-04 12:03:27.903060: I tensorflow/core/grappler/optimizers/custom_graph_optimizer_registry.cc:113] Plugin optimizer for device_type GPU is enabled.\n"
     ]
    },
    {
     "name": "stdout",
     "output_type": "stream",
     "text": [
      "1563/1563 [==============================] - ETA: 0s - loss: 1.4987 - accuracy: 0.4502"
     ]
    },
    {
     "name": "stderr",
     "output_type": "stream",
     "text": [
      "2022-07-04 12:04:06.002538: I tensorflow/core/grappler/optimizers/custom_graph_optimizer_registry.cc:113] Plugin optimizer for device_type GPU is enabled.\n"
     ]
    },
    {
     "name": "stdout",
     "output_type": "stream",
     "text": [
      "1563/1563 [==============================] - 42s 26ms/step - loss: 1.4987 - accuracy: 0.4502 - val_loss: 1.1397 - val_accuracy: 0.5948\n",
      "Epoch 2/25\n",
      "1563/1563 [==============================] - 41s 26ms/step - loss: 1.0219 - accuracy: 0.6345 - val_loss: 0.9402 - val_accuracy: 0.6657\n",
      "Epoch 3/25\n",
      "1563/1563 [==============================] - 42s 27ms/step - loss: 0.8255 - accuracy: 0.7073 - val_loss: 0.8362 - val_accuracy: 0.7062\n",
      "Epoch 4/25\n",
      "1563/1563 [==============================] - 44s 28ms/step - loss: 0.6958 - accuracy: 0.7556 - val_loss: 0.8209 - val_accuracy: 0.7128\n",
      "Epoch 5/25\n",
      "1563/1563 [==============================] - 42s 27ms/step - loss: 0.5934 - accuracy: 0.7931 - val_loss: 0.8428 - val_accuracy: 0.7135\n",
      "Epoch 6/25\n",
      "1563/1563 [==============================] - 41s 26ms/step - loss: 0.5025 - accuracy: 0.8224 - val_loss: 0.8273 - val_accuracy: 0.7255\n",
      "Epoch 7/25\n",
      "1563/1563 [==============================] - 43s 27ms/step - loss: 0.4333 - accuracy: 0.8467 - val_loss: 0.8290 - val_accuracy: 0.7338\n",
      "Epoch 8/25\n",
      "1563/1563 [==============================] - 45s 29ms/step - loss: 0.3693 - accuracy: 0.8702 - val_loss: 0.9173 - val_accuracy: 0.7188\n",
      "Epoch 9/25\n",
      "1563/1563 [==============================] - 47s 30ms/step - loss: 0.3141 - accuracy: 0.8895 - val_loss: 0.9607 - val_accuracy: 0.7258\n",
      "Epoch 10/25\n",
      "1563/1563 [==============================] - 52s 33ms/step - loss: 0.2726 - accuracy: 0.9036 - val_loss: 1.0060 - val_accuracy: 0.7338\n",
      "Epoch 11/25\n",
      "1563/1563 [==============================] - 44s 28ms/step - loss: 0.2494 - accuracy: 0.9127 - val_loss: 1.1000 - val_accuracy: 0.7310\n",
      "Epoch 12/25\n",
      "1563/1563 [==============================] - 43s 28ms/step - loss: 0.2124 - accuracy: 0.9239 - val_loss: 1.2089 - val_accuracy: 0.7147\n",
      "Epoch 13/25\n",
      "1563/1563 [==============================] - 44s 28ms/step - loss: 0.2077 - accuracy: 0.9277 - val_loss: 1.2304 - val_accuracy: 0.7126\n",
      "Epoch 14/25\n",
      "1563/1563 [==============================] - 38s 25ms/step - loss: 0.1890 - accuracy: 0.9343 - val_loss: 1.1456 - val_accuracy: 0.7279\n",
      "Epoch 15/25\n",
      "1563/1563 [==============================] - 40s 25ms/step - loss: 0.1746 - accuracy: 0.9391 - val_loss: 1.2202 - val_accuracy: 0.7224\n",
      "Epoch 16/25\n",
      "1563/1563 [==============================] - 40s 25ms/step - loss: 0.1622 - accuracy: 0.9451 - val_loss: 1.3526 - val_accuracy: 0.7277\n",
      "Epoch 17/25\n",
      "1563/1563 [==============================] - 43s 27ms/step - loss: 0.1597 - accuracy: 0.9442 - val_loss: 1.3115 - val_accuracy: 0.7205\n",
      "Epoch 18/25\n",
      "1563/1563 [==============================] - 41s 26ms/step - loss: 0.1578 - accuracy: 0.9462 - val_loss: 1.3418 - val_accuracy: 0.7319\n",
      "Epoch 19/25\n",
      "1563/1563 [==============================] - 39s 25ms/step - loss: 0.1433 - accuracy: 0.9512 - val_loss: 1.3591 - val_accuracy: 0.7263\n",
      "Epoch 20/25\n",
      "1563/1563 [==============================] - 42s 27ms/step - loss: 0.1391 - accuracy: 0.9530 - val_loss: 1.3679 - val_accuracy: 0.7354\n",
      "Epoch 21/25\n",
      "1563/1563 [==============================] - 40s 25ms/step - loss: 0.1296 - accuracy: 0.9557 - val_loss: 1.4409 - val_accuracy: 0.7205\n",
      "Epoch 22/25\n",
      "1563/1563 [==============================] - 41s 26ms/step - loss: 0.1292 - accuracy: 0.9564 - val_loss: 1.4556 - val_accuracy: 0.7239\n",
      "Epoch 23/25\n",
      "1563/1563 [==============================] - 42s 27ms/step - loss: 0.1300 - accuracy: 0.9568 - val_loss: 1.4689 - val_accuracy: 0.7329\n",
      "Epoch 24/25\n",
      "1563/1563 [==============================] - 41s 26ms/step - loss: 0.1193 - accuracy: 0.9607 - val_loss: 1.5568 - val_accuracy: 0.7383\n",
      "Epoch 25/25\n",
      "1563/1563 [==============================] - 43s 27ms/step - loss: 0.1239 - accuracy: 0.9595 - val_loss: 1.4218 - val_accuracy: 0.7317\n"
     ]
    }
   ],
   "source": [
    "model.compile(\n",
    "    optimizer = 'Adam',\n",
    "    loss = 'sparse_categorical_crossentropy',\n",
    "    metrics = ['accuracy'])\n",
    "\n",
    "history = model.fit(train_images, train_labels, epochs=25, validation_data=(test_images, test_labels))"
   ]
  },
  {
   "cell_type": "code",
   "execution_count": 9,
   "metadata": {},
   "outputs": [
    {
     "name": "stdout",
     "output_type": "stream",
     "text": [
      "313/313 - 3s - loss: 1.4218 - accuracy: 0.7317 - 3s/epoch - 10ms/step\n",
      "0.73170006275177\n"
     ]
    }
   ],
   "source": [
    "test_loss, test_acc = model.evaluate(test_images,  test_labels, verbose=2)\n",
    "print(test_acc)"
   ]
  },
  {
   "cell_type": "code",
   "execution_count": 13,
   "metadata": {},
   "outputs": [
    {
     "name": "stdout",
     "output_type": "stream",
     "text": [
      "313/313 [==============================] - 2s 8ms/step\n",
      "ship\n"
     ]
    },
    {
     "data": {
      "image/png": "[encoded data removed]",
      "text/plain": [
       "<Figure size 432x288 with 1 Axes>"
      ]
     },
     "metadata": {
      "needs_background": "light"
     },
     "output_type": "display_data"
    }
   ],
   "source": [
    "import numpy as np\n",
    "\n",
    "TEST_IMG = 54\n",
    "\n",
    "predictions = model.predict(test_images)\n",
    "plt.imshow(test_images[TEST_IMG])\n",
    "print(class_names[np.argmax(predictions[TEST_IMG])])"
   ]
  }
 ],
 "metadata": {
  "kernelspec": {
   "display_name": "Python 3.10.5 ('MLEnv')",
   "language": "python",
   "name": "python3"
  },
  "language_info": {
   "codemirror_mode": {
    "name": "ipython",
    "version": 3
   },
   "file_extension": ".py",
   "mimetype": "text/x-python",
   "name": "python",
   "nbconvert_exporter": "python",
   "pygments_lexer": "ipython3",
   "version": "3.10.5"
  },
  "orig_nbformat": 4,
  "vscode": {
   "interpreter": {
    "hash": "05bcee58adcf44048299c032d993fbfdfbe1d910d103f67310fbc169a98d7007"
   }
  }
 },
 "nbformat": 4,
 "nbformat_minor": 2
}
