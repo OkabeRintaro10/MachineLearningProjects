{
 "cells": [
  {
   "cell_type": "code",
   "execution_count": 29,
   "metadata": {},
   "outputs": [],
   "source": [
    "from __future__ import absolute_import, division, print_function, unicode_literals\n",
    "\n",
    "import numpy as np\n",
    "import pandas as pd\n",
    "import matplotlib.pyplot as plt\n",
    "from IPython.display import clear_output\n",
    "from six.moves import urllib\n",
    "\n",
    "import tensorflow.compat.v2.feature_column as fc\n",
    "\n",
    "import tensorflow as tf"
   ]
  },
  {
   "cell_type": "code",
   "execution_count": 30,
   "metadata": {},
   "outputs": [],
   "source": [
    "CSV_COLUMN_NAMES = ['SepalLength', 'SepalWidth', 'PetalLength', 'PetalWidth', 'Species']\n",
    "SPECIES = ['Setosa', 'Versicolor', 'Virginica']\n",
    "# Lets define some constants to help us later on"
   ]
  },
  {
   "cell_type": "code",
   "execution_count": 31,
   "metadata": {},
   "outputs": [],
   "source": [
    "train_path = tf.keras.utils.get_file(\n",
    "    \"iris_training.csv\", \"https://storage.googleapis.com/download.tensorflow.org/data/iris_training.csv\")\n",
    "test_path = tf.keras.utils.get_file(\n",
    "    \"iris_test.csv\", \"https://storage.googleapis.com/download.tensorflow.org/data/iris_test.csv\")\n",
    "\n",
    "train = pd.read_csv(train_path, names=CSV_COLUMN_NAMES, header=0)\n",
    "test = pd.read_csv(test_path, names=CSV_COLUMN_NAMES, header=0)\n",
    "# Here we use keras (a module inside of TensorFlow) to grab our datasets"
   ]
  },
  {
   "cell_type": "code",
   "execution_count": 32,
   "metadata": {},
   "outputs": [
    {
     "data": {
      "text/html": [
       "<div>\n",
       "<style scoped>\n",
       "    .dataframe tbody tr th:only-of-type {\n",
       "        vertical-align: middle;\n",
       "    }\n",
       "\n",
       "    .dataframe tbody tr th {\n",
       "        vertical-align: top;\n",
       "    }\n",
       "\n",
       "    .dataframe thead th {\n",
       "        text-align: right;\n",
       "    }\n",
       "</style>\n",
       "<table border=\"1\" class=\"dataframe\">\n",
       "  <thead>\n",
       "    <tr style=\"text-align: right;\">\n",
       "      <th></th>\n",
       "      <th>SepalLength</th>\n",
       "      <th>SepalWidth</th>\n",
       "      <th>PetalLength</th>\n",
       "      <th>PetalWidth</th>\n",
       "      <th>Species</th>\n",
       "    </tr>\n",
       "  </thead>\n",
       "  <tbody>\n",
       "    <tr>\n",
       "      <th>0</th>\n",
       "      <td>6.4</td>\n",
       "      <td>2.8</td>\n",
       "      <td>5.6</td>\n",
       "      <td>2.2</td>\n",
       "      <td>2</td>\n",
       "    </tr>\n",
       "    <tr>\n",
       "      <th>1</th>\n",
       "      <td>5.0</td>\n",
       "      <td>2.3</td>\n",
       "      <td>3.3</td>\n",
       "      <td>1.0</td>\n",
       "      <td>1</td>\n",
       "    </tr>\n",
       "    <tr>\n",
       "      <th>2</th>\n",
       "      <td>4.9</td>\n",
       "      <td>2.5</td>\n",
       "      <td>4.5</td>\n",
       "      <td>1.7</td>\n",
       "      <td>2</td>\n",
       "    </tr>\n",
       "    <tr>\n",
       "      <th>3</th>\n",
       "      <td>4.9</td>\n",
       "      <td>3.1</td>\n",
       "      <td>1.5</td>\n",
       "      <td>0.1</td>\n",
       "      <td>0</td>\n",
       "    </tr>\n",
       "    <tr>\n",
       "      <th>4</th>\n",
       "      <td>5.7</td>\n",
       "      <td>3.8</td>\n",
       "      <td>1.7</td>\n",
       "      <td>0.3</td>\n",
       "      <td>0</td>\n",
       "    </tr>\n",
       "  </tbody>\n",
       "</table>\n",
       "</div>"
      ],
      "text/plain": [
       "   SepalLength  SepalWidth  PetalLength  PetalWidth  Species\n",
       "0          6.4         2.8          5.6         2.2        2\n",
       "1          5.0         2.3          3.3         1.0        1\n",
       "2          4.9         2.5          4.5         1.7        2\n",
       "3          4.9         3.1          1.5         0.1        0\n",
       "4          5.7         3.8          1.7         0.3        0"
      ]
     },
     "execution_count": 32,
     "metadata": {},
     "output_type": "execute_result"
    }
   ],
   "source": [
    "train.head()"
   ]
  },
  {
   "cell_type": "code",
   "execution_count": 33,
   "metadata": {},
   "outputs": [
    {
     "data": {
      "text/html": [
       "<div>\n",
       "<style scoped>\n",
       "    .dataframe tbody tr th:only-of-type {\n",
       "        vertical-align: middle;\n",
       "    }\n",
       "\n",
       "    .dataframe tbody tr th {\n",
       "        vertical-align: top;\n",
       "    }\n",
       "\n",
       "    .dataframe thead th {\n",
       "        text-align: right;\n",
       "    }\n",
       "</style>\n",
       "<table border=\"1\" class=\"dataframe\">\n",
       "  <thead>\n",
       "    <tr style=\"text-align: right;\">\n",
       "      <th></th>\n",
       "      <th>SepalLength</th>\n",
       "      <th>SepalWidth</th>\n",
       "      <th>PetalLength</th>\n",
       "      <th>PetalWidth</th>\n",
       "    </tr>\n",
       "  </thead>\n",
       "  <tbody>\n",
       "    <tr>\n",
       "      <th>0</th>\n",
       "      <td>6.4</td>\n",
       "      <td>2.8</td>\n",
       "      <td>5.6</td>\n",
       "      <td>2.2</td>\n",
       "    </tr>\n",
       "    <tr>\n",
       "      <th>1</th>\n",
       "      <td>5.0</td>\n",
       "      <td>2.3</td>\n",
       "      <td>3.3</td>\n",
       "      <td>1.0</td>\n",
       "    </tr>\n",
       "    <tr>\n",
       "      <th>2</th>\n",
       "      <td>4.9</td>\n",
       "      <td>2.5</td>\n",
       "      <td>4.5</td>\n",
       "      <td>1.7</td>\n",
       "    </tr>\n",
       "    <tr>\n",
       "      <th>3</th>\n",
       "      <td>4.9</td>\n",
       "      <td>3.1</td>\n",
       "      <td>1.5</td>\n",
       "      <td>0.1</td>\n",
       "    </tr>\n",
       "    <tr>\n",
       "      <th>4</th>\n",
       "      <td>5.7</td>\n",
       "      <td>3.8</td>\n",
       "      <td>1.7</td>\n",
       "      <td>0.3</td>\n",
       "    </tr>\n",
       "  </tbody>\n",
       "</table>\n",
       "</div>"
      ],
      "text/plain": [
       "   SepalLength  SepalWidth  PetalLength  PetalWidth\n",
       "0          6.4         2.8          5.6         2.2\n",
       "1          5.0         2.3          3.3         1.0\n",
       "2          4.9         2.5          4.5         1.7\n",
       "3          4.9         3.1          1.5         0.1\n",
       "4          5.7         3.8          1.7         0.3"
      ]
     },
     "execution_count": 33,
     "metadata": {},
     "output_type": "execute_result"
    }
   ],
   "source": [
    "train_y = train.pop('Species')\n",
    "test_y = test.pop('Species')\n",
    "train.head() # the species column is now gone"
   ]
  },
  {
   "cell_type": "code",
   "execution_count": 34,
   "metadata": {},
   "outputs": [
    {
     "data": {
      "text/plain": [
       "(120, 4)"
      ]
     },
     "execution_count": 34,
     "metadata": {},
     "output_type": "execute_result"
    }
   ],
   "source": [
    "train.shape  # we have 120 entires with 4 features"
   ]
  },
  {
   "cell_type": "code",
   "execution_count": 35,
   "metadata": {},
   "outputs": [
    {
     "data": {
      "text/plain": [
       "(120,)"
      ]
     },
     "execution_count": 35,
     "metadata": {},
     "output_type": "execute_result"
    }
   ],
   "source": [
    "train_y.shape"
   ]
  },
  {
   "cell_type": "code",
   "execution_count": 36,
   "metadata": {},
   "outputs": [
    {
     "data": {
      "text/plain": [
       "0    2\n",
       "1    1\n",
       "2    2\n",
       "3    0\n",
       "4    0\n",
       "Name: Species, dtype: int64"
      ]
     },
     "execution_count": 36,
     "metadata": {},
     "output_type": "execute_result"
    }
   ],
   "source": [
    "train_y.head()"
   ]
  },
  {
   "cell_type": "code",
   "execution_count": 37,
   "metadata": {},
   "outputs": [],
   "source": [
    "def input_fn(features, labels, training=True, batch_size=256):\n",
    "    # Convert the inputs to a Dataset.\n",
    "    dataset = tf.data.Dataset.from_tensor_slices((dict(features), labels))\n",
    "\n",
    "    # Shuffle and repeat if you are in training mode.\n",
    "    if training:\n",
    "        dataset = dataset.shuffle(1000).repeat()\n",
    "    \n",
    "    return dataset.batch(batch_size)"
   ]
  },
  {
   "cell_type": "code",
   "execution_count": 38,
   "metadata": {},
   "outputs": [
    {
     "name": "stdout",
     "output_type": "stream",
     "text": [
      "[NumericColumn(key='SepalLength', shape=(1,), default_value=None, dtype=tf.float32, normalizer_fn=None), NumericColumn(key='SepalWidth', shape=(1,), default_value=None, dtype=tf.float32, normalizer_fn=None), NumericColumn(key='PetalLength', shape=(1,), default_value=None, dtype=tf.float32, normalizer_fn=None), NumericColumn(key='PetalWidth', shape=(1,), default_value=None, dtype=tf.float32, normalizer_fn=None)]\n"
     ]
    }
   ],
   "source": [
    "my_feature_columns = []\n",
    "for key in train.keys():\n",
    "    my_feature_columns.append(tf.feature_column.numeric_column(key=key))\n",
    "print(my_feature_columns)"
   ]
  },
  {
   "cell_type": "code",
   "execution_count": 39,
   "metadata": {},
   "outputs": [
    {
     "name": "stdout",
     "output_type": "stream",
     "text": [
      "INFO:tensorflow:Using default config.\n",
      "WARNING:tensorflow:Using temporary folder as model directory: /var/folders/mn/g3wgp9q957z635jg7yp4gh3m0000gn/T/tmpnlzt3fd2\n",
      "INFO:tensorflow:Using config: {'_model_dir': '/var/folders/mn/g3wgp9q957z635jg7yp4gh3m0000gn/T/tmpnlzt3fd2', '_tf_random_seed': None, '_save_summary_steps': 100, '_save_checkpoints_steps': None, '_save_checkpoints_secs': 600, '_session_config': allow_soft_placement: true\n",
      "graph_options {\n",
      "  rewrite_options {\n",
      "    meta_optimizer_iterations: ONE\n",
      "  }\n",
      "}\n",
      ", '_keep_checkpoint_max': 5, '_keep_checkpoint_every_n_hours': 10000, '_log_step_count_steps': 100, '_train_distribute': None, '_device_fn': None, '_protocol': None, '_eval_distribute': None, '_experimental_distribute': None, '_experimental_max_worker_delay_secs': None, '_session_creation_timeout_secs': 7200, '_checkpoint_save_graph_def': True, '_service': None, '_cluster_spec': ClusterSpec({}), '_task_type': 'worker', '_task_id': 0, '_global_id_in_cluster': 0, '_master': '', '_evaluation_master': '', '_is_chief': True, '_num_ps_replicas': 0, '_num_worker_replicas': 1}\n"
     ]
    }
   ],
   "source": [
    "# Build a DNN with 2 hidden layers with 30 and 10 hidden nodes each.\n",
    "classifier = tf.estimator.DNNClassifier(\n",
    "    feature_columns=my_feature_columns,\n",
    "    # Two hidden layers of 30 and 10 nodes respectively.\n",
    "    hidden_units=[30, 10],\n",
    "    # The model must choose between 3 classes.\n",
    "    n_classes=3)"
   ]
  },
  {
   "cell_type": "code",
   "execution_count": 40,
   "metadata": {},
   "outputs": [
    {
     "name": "stdout",
     "output_type": "stream",
     "text": [
      "INFO:tensorflow:Calling model_fn.\n",
      "INFO:tensorflow:Done calling model_fn.\n",
      "INFO:tensorflow:Create CheckpointSaverHook.\n",
      "INFO:tensorflow:Graph was finalized.\n",
      "INFO:tensorflow:Running local_init_op.\n",
      "INFO:tensorflow:Done running local_init_op.\n"
     ]
    },
    {
     "name": "stderr",
     "output_type": "stream",
     "text": [
      "2022-06-18 18:19:13.541909: I tensorflow/core/common_runtime/pluggable_device/pluggable_device_factory.cc:305] Could not identify NUMA node of platform GPU ID 0, defaulting to 0. Your kernel may not have been built with NUMA support.\n",
      "2022-06-18 18:19:13.541943: I tensorflow/core/common_runtime/pluggable_device/pluggable_device_factory.cc:271] Created TensorFlow device (/job:localhost/replica:0/task:0/device:GPU:0 with 0 MB memory) -> physical PluggableDevice (device: 0, name: METAL, pci bus id: <undefined>)\n",
      "2022-06-18 18:19:13.555786: I tensorflow/core/grappler/optimizers/custom_graph_optimizer_registry.cc:113] Plugin optimizer for device_type GPU is enabled.\n",
      "2022-06-18 18:19:13.588082: I tensorflow/core/grappler/optimizers/custom_graph_optimizer_registry.cc:113] Plugin optimizer for device_type GPU is enabled.\n",
      "2022-06-18 18:19:13.599177: I tensorflow/core/grappler/optimizers/custom_graph_optimizer_registry.cc:113] Plugin optimizer for device_type GPU is enabled.\n",
      "2022-06-18 18:19:13.603363: I tensorflow/core/grappler/optimizers/custom_graph_optimizer_registry.cc:113] Plugin optimizer for device_type GPU is enabled.\n",
      "2022-06-18 18:19:13.614279: I tensorflow/core/grappler/optimizers/custom_graph_optimizer_registry.cc:113] Plugin optimizer for device_type GPU is enabled.\n"
     ]
    },
    {
     "name": "stdout",
     "output_type": "stream",
     "text": [
      "INFO:tensorflow:Calling checkpoint listeners before saving checkpoint 0...\n",
      "INFO:tensorflow:Saving checkpoints for 0 into /var/folders/mn/g3wgp9q957z635jg7yp4gh3m0000gn/T/tmpnlzt3fd2/model.ckpt.\n"
     ]
    },
    {
     "name": "stderr",
     "output_type": "stream",
     "text": [
      "2022-06-18 18:19:14.223873: I tensorflow/core/grappler/optimizers/custom_graph_optimizer_registry.cc:113] Plugin optimizer for device_type GPU is enabled.\n"
     ]
    },
    {
     "name": "stdout",
     "output_type": "stream",
     "text": [
      "INFO:tensorflow:/var/folders/mn/g3wgp9q957z635jg7yp4gh3m0000gn/T/tmpnlzt3fd2/model.ckpt-0.data-00000-of-00001\n",
      "INFO:tensorflow:0\n",
      "INFO:tensorflow:/var/folders/mn/g3wgp9q957z635jg7yp4gh3m0000gn/T/tmpnlzt3fd2/model.ckpt-0.index\n",
      "INFO:tensorflow:0\n",
      "INFO:tensorflow:/var/folders/mn/g3wgp9q957z635jg7yp4gh3m0000gn/T/tmpnlzt3fd2/model.ckpt-0.meta\n",
      "INFO:tensorflow:100\n",
      "INFO:tensorflow:Calling checkpoint listeners after saving checkpoint 0...\n",
      "INFO:tensorflow:loss = 1.9473426, step = 0\n"
     ]
    },
    {
     "name": "stderr",
     "output_type": "stream",
     "text": [
      "2022-06-18 18:19:14.542716: I tensorflow/core/grappler/optimizers/custom_graph_optimizer_registry.cc:113] Plugin optimizer for device_type GPU is enabled.\n",
      "2022-06-18 18:19:14.555527: I tensorflow/core/grappler/optimizers/custom_graph_optimizer_registry.cc:113] Plugin optimizer for device_type GPU is enabled.\n",
      "2022-06-18 18:19:14.684278: I tensorflow/core/grappler/optimizers/custom_graph_optimizer_registry.cc:113] Plugin optimizer for device_type GPU is enabled.\n"
     ]
    },
    {
     "name": "stdout",
     "output_type": "stream",
     "text": [
      "INFO:tensorflow:global_step/sec: 155.431\n",
      "INFO:tensorflow:loss = 1.2013233, step = 100 (0.644 sec)\n",
      "INFO:tensorflow:global_step/sec: 178.285\n",
      "INFO:tensorflow:loss = 1.0461059, step = 200 (0.561 sec)\n",
      "INFO:tensorflow:global_step/sec: 171.822\n",
      "INFO:tensorflow:loss = 0.92724097, step = 300 (0.582 sec)\n",
      "INFO:tensorflow:global_step/sec: 147.425\n",
      "INFO:tensorflow:loss = 0.86315894, step = 400 (0.679 sec)\n",
      "INFO:tensorflow:global_step/sec: 144.86\n",
      "INFO:tensorflow:loss = 0.8185259, step = 500 (0.691 sec)\n",
      "INFO:tensorflow:global_step/sec: 157.173\n",
      "INFO:tensorflow:loss = 0.79235536, step = 600 (0.635 sec)\n",
      "INFO:tensorflow:global_step/sec: 163.69\n",
      "INFO:tensorflow:loss = 0.76785696, step = 700 (0.612 sec)\n",
      "INFO:tensorflow:global_step/sec: 154.548\n",
      "INFO:tensorflow:loss = 0.71471477, step = 800 (0.647 sec)\n",
      "INFO:tensorflow:global_step/sec: 179.7\n",
      "INFO:tensorflow:loss = 0.68806505, step = 900 (0.556 sec)\n",
      "INFO:tensorflow:global_step/sec: 183.488\n",
      "INFO:tensorflow:loss = 0.6653726, step = 1000 (0.545 sec)\n",
      "INFO:tensorflow:global_step/sec: 168.071\n",
      "INFO:tensorflow:loss = 0.6476166, step = 1100 (0.595 sec)\n",
      "INFO:tensorflow:global_step/sec: 179.024\n",
      "INFO:tensorflow:loss = 0.63544565, step = 1200 (0.558 sec)\n",
      "INFO:tensorflow:global_step/sec: 172.096\n",
      "INFO:tensorflow:loss = 0.617309, step = 1300 (0.581 sec)\n",
      "INFO:tensorflow:global_step/sec: 187.348\n",
      "INFO:tensorflow:loss = 0.6018491, step = 1400 (0.534 sec)\n",
      "INFO:tensorflow:global_step/sec: 175.359\n",
      "INFO:tensorflow:loss = 0.5881336, step = 1500 (0.570 sec)\n",
      "INFO:tensorflow:global_step/sec: 177.829\n",
      "INFO:tensorflow:loss = 0.58317053, step = 1600 (0.562 sec)\n",
      "INFO:tensorflow:global_step/sec: 183.675\n",
      "INFO:tensorflow:loss = 0.5615675, step = 1700 (0.545 sec)\n",
      "INFO:tensorflow:global_step/sec: 187.021\n",
      "INFO:tensorflow:loss = 0.5501801, step = 1800 (0.534 sec)\n",
      "INFO:tensorflow:global_step/sec: 184.857\n",
      "INFO:tensorflow:loss = 0.5476101, step = 1900 (0.543 sec)\n",
      "INFO:tensorflow:global_step/sec: 180.876\n",
      "INFO:tensorflow:loss = 0.5336023, step = 2000 (0.550 sec)\n",
      "INFO:tensorflow:global_step/sec: 184.19\n",
      "INFO:tensorflow:loss = 0.5298246, step = 2100 (0.543 sec)\n",
      "INFO:tensorflow:global_step/sec: 184.163\n",
      "INFO:tensorflow:loss = 0.5229687, step = 2200 (0.543 sec)\n",
      "INFO:tensorflow:global_step/sec: 193.669\n",
      "INFO:tensorflow:loss = 0.5147939, step = 2300 (0.516 sec)\n",
      "INFO:tensorflow:global_step/sec: 192.474\n",
      "INFO:tensorflow:loss = 0.50376886, step = 2400 (0.519 sec)\n",
      "INFO:tensorflow:global_step/sec: 193.711\n",
      "INFO:tensorflow:loss = 0.4921517, step = 2500 (0.516 sec)\n",
      "INFO:tensorflow:global_step/sec: 192.877\n",
      "INFO:tensorflow:loss = 0.49133894, step = 2600 (0.518 sec)\n",
      "INFO:tensorflow:global_step/sec: 193.02\n",
      "INFO:tensorflow:loss = 0.488267, step = 2700 (0.518 sec)\n",
      "INFO:tensorflow:global_step/sec: 193.877\n",
      "INFO:tensorflow:loss = 0.48604336, step = 2800 (0.516 sec)\n",
      "INFO:tensorflow:global_step/sec: 192.89\n",
      "INFO:tensorflow:loss = 0.46119976, step = 2900 (0.518 sec)\n",
      "INFO:tensorflow:global_step/sec: 193.564\n",
      "INFO:tensorflow:loss = 0.47106504, step = 3000 (0.517 sec)\n",
      "INFO:tensorflow:global_step/sec: 192.549\n",
      "INFO:tensorflow:loss = 0.44830292, step = 3100 (0.519 sec)\n",
      "INFO:tensorflow:global_step/sec: 194.026\n",
      "INFO:tensorflow:loss = 0.4519369, step = 3200 (0.515 sec)\n",
      "INFO:tensorflow:global_step/sec: 192.939\n",
      "INFO:tensorflow:loss = 0.45588928, step = 3300 (0.518 sec)\n",
      "INFO:tensorflow:global_step/sec: 193.62\n",
      "INFO:tensorflow:loss = 0.45075792, step = 3400 (0.516 sec)\n",
      "INFO:tensorflow:global_step/sec: 192.437\n",
      "INFO:tensorflow:loss = 0.44885135, step = 3500 (0.520 sec)\n",
      "INFO:tensorflow:global_step/sec: 193.232\n",
      "INFO:tensorflow:loss = 0.4339568, step = 3600 (0.518 sec)\n",
      "INFO:tensorflow:global_step/sec: 193.933\n",
      "INFO:tensorflow:loss = 0.4422834, step = 3700 (0.516 sec)\n",
      "INFO:tensorflow:global_step/sec: 192.68\n",
      "INFO:tensorflow:loss = 0.4277451, step = 3800 (0.519 sec)\n",
      "INFO:tensorflow:global_step/sec: 193.812\n",
      "INFO:tensorflow:loss = 0.43476623, step = 3900 (0.516 sec)\n",
      "INFO:tensorflow:global_step/sec: 193.156\n",
      "INFO:tensorflow:loss = 0.42696774, step = 4000 (0.518 sec)\n",
      "INFO:tensorflow:global_step/sec: 192.981\n",
      "INFO:tensorflow:loss = 0.41687882, step = 4100 (0.518 sec)\n",
      "INFO:tensorflow:global_step/sec: 193.748\n",
      "INFO:tensorflow:loss = 0.4140494, step = 4200 (0.516 sec)\n",
      "INFO:tensorflow:global_step/sec: 192.561\n",
      "INFO:tensorflow:loss = 0.41514948, step = 4300 (0.519 sec)\n",
      "INFO:tensorflow:global_step/sec: 193.021\n",
      "INFO:tensorflow:loss = 0.3986204, step = 4400 (0.518 sec)\n",
      "INFO:tensorflow:global_step/sec: 192.644\n",
      "INFO:tensorflow:loss = 0.40420872, step = 4500 (0.519 sec)\n",
      "INFO:tensorflow:global_step/sec: 193.809\n",
      "INFO:tensorflow:loss = 0.39832973, step = 4600 (0.516 sec)\n",
      "INFO:tensorflow:global_step/sec: 193.199\n",
      "INFO:tensorflow:loss = 0.4017359, step = 4700 (0.518 sec)\n",
      "INFO:tensorflow:global_step/sec: 193.067\n",
      "INFO:tensorflow:loss = 0.3958032, step = 4800 (0.518 sec)\n",
      "INFO:tensorflow:global_step/sec: 193.075\n",
      "INFO:tensorflow:loss = 0.3890071, step = 4900 (0.518 sec)\n",
      "INFO:tensorflow:Calling checkpoint listeners before saving checkpoint 5000...\n",
      "INFO:tensorflow:Saving checkpoints for 5000 into /var/folders/mn/g3wgp9q957z635jg7yp4gh3m0000gn/T/tmpnlzt3fd2/model.ckpt.\n",
      "INFO:tensorflow:/var/folders/mn/g3wgp9q957z635jg7yp4gh3m0000gn/T/tmpnlzt3fd2/model.ckpt-5000.data-00000-of-00001\n",
      "INFO:tensorflow:0\n",
      "INFO:tensorflow:/var/folders/mn/g3wgp9q957z635jg7yp4gh3m0000gn/T/tmpnlzt3fd2/model.ckpt-5000.index\n",
      "INFO:tensorflow:0\n",
      "INFO:tensorflow:/var/folders/mn/g3wgp9q957z635jg7yp4gh3m0000gn/T/tmpnlzt3fd2/model.ckpt-5000.meta\n",
      "INFO:tensorflow:100\n",
      "INFO:tensorflow:Calling checkpoint listeners after saving checkpoint 5000...\n",
      "INFO:tensorflow:Loss for final step: 0.39639997.\n"
     ]
    },
    {
     "data": {
      "text/plain": [
       "<tensorflow_estimator.python.estimator.canned.dnn.DNNClassifierV2 at 0x15d286800>"
      ]
     },
     "execution_count": 40,
     "metadata": {},
     "output_type": "execute_result"
    }
   ],
   "source": [
    "classifier.train(\n",
    "    input_fn=lambda: input_fn(train, train_y, training=True),\n",
    "    steps=5000)\n",
    "# We include a lambda to avoid creating an inner function previously"
   ]
  },
  {
   "cell_type": "code",
   "execution_count": 41,
   "metadata": {},
   "outputs": [
    {
     "name": "stdout",
     "output_type": "stream",
     "text": [
      "INFO:tensorflow:Calling model_fn.\n",
      "INFO:tensorflow:Done calling model_fn.\n",
      "INFO:tensorflow:Starting evaluation at 2022-06-18T18:19:42\n",
      "INFO:tensorflow:Graph was finalized.\n",
      "INFO:tensorflow:Restoring parameters from /var/folders/mn/g3wgp9q957z635jg7yp4gh3m0000gn/T/tmpnlzt3fd2/model.ckpt-5000\n",
      "INFO:tensorflow:Running local_init_op.\n",
      "INFO:tensorflow:Done running local_init_op.\n",
      "INFO:tensorflow:Inference Time : 0.19828s\n",
      "INFO:tensorflow:Finished evaluation at 2022-06-18-18:19:42\n",
      "INFO:tensorflow:Saving dict for global step 5000: accuracy = 0.90000004, average_loss = 0.4551404, global_step = 5000, loss = 0.4551404\n"
     ]
    },
    {
     "name": "stderr",
     "output_type": "stream",
     "text": [
      "2022-06-18 18:19:42.643847: I tensorflow/core/common_runtime/pluggable_device/pluggable_device_factory.cc:305] Could not identify NUMA node of platform GPU ID 0, defaulting to 0. Your kernel may not have been built with NUMA support.\n",
      "2022-06-18 18:19:42.643868: I tensorflow/core/common_runtime/pluggable_device/pluggable_device_factory.cc:271] Created TensorFlow device (/job:localhost/replica:0/task:0/device:GPU:0 with 0 MB memory) -> physical PluggableDevice (device: 0, name: METAL, pci bus id: <undefined>)\n",
      "2022-06-18 18:19:42.658031: I tensorflow/core/grappler/optimizers/custom_graph_optimizer_registry.cc:113] Plugin optimizer for device_type GPU is enabled.\n",
      "2022-06-18 18:19:42.666780: I tensorflow/core/grappler/optimizers/custom_graph_optimizer_registry.cc:113] Plugin optimizer for device_type GPU is enabled.\n",
      "2022-06-18 18:19:42.675588: I tensorflow/core/grappler/optimizers/custom_graph_optimizer_registry.cc:113] Plugin optimizer for device_type GPU is enabled.\n",
      "2022-06-18 18:19:42.684221: I tensorflow/core/grappler/optimizers/custom_graph_optimizer_registry.cc:113] Plugin optimizer for device_type GPU is enabled.\n",
      "2022-06-18 18:19:42.694803: I tensorflow/core/grappler/optimizers/custom_graph_optimizer_registry.cc:113] Plugin optimizer for device_type GPU is enabled.\n",
      "2022-06-18 18:19:42.701831: I tensorflow/core/grappler/optimizers/custom_graph_optimizer_registry.cc:113] Plugin optimizer for device_type GPU is enabled.\n",
      "2022-06-18 18:19:42.785174: I tensorflow/core/grappler/optimizers/custom_graph_optimizer_registry.cc:113] Plugin optimizer for device_type GPU is enabled.\n"
     ]
    },
    {
     "name": "stdout",
     "output_type": "stream",
     "text": [
      "INFO:tensorflow:Saving 'checkpoint_path' summary for global step 5000: /var/folders/mn/g3wgp9q957z635jg7yp4gh3m0000gn/T/tmpnlzt3fd2/model.ckpt-5000\n",
      "\n",
      "Test set accuracy: 0.900\n",
      "\n"
     ]
    }
   ],
   "source": [
    "eval_result = classifier.evaluate(\n",
    "    input_fn=lambda: input_fn(test, test_y, training=False))\n",
    "\n",
    "print('\\nTest set accuracy: {accuracy:0.3f}\\n'.format(**eval_result))"
   ]
  },
  {
   "cell_type": "code",
   "execution_count": 42,
   "metadata": {},
   "outputs": [
    {
     "name": "stdout",
     "output_type": "stream",
     "text": [
      "Please type numeric values as prompted.\n",
      "INFO:tensorflow:Calling model_fn.\n",
      "INFO:tensorflow:Done calling model_fn.\n",
      "INFO:tensorflow:Graph was finalized.\n",
      "INFO:tensorflow:Restoring parameters from /var/folders/mn/g3wgp9q957z635jg7yp4gh3m0000gn/T/tmpnlzt3fd2/model.ckpt-5000\n",
      "INFO:tensorflow:Running local_init_op.\n",
      "INFO:tensorflow:Done running local_init_op.\n"
     ]
    },
    {
     "name": "stderr",
     "output_type": "stream",
     "text": [
      "2022-06-18 18:20:00.161109: I tensorflow/core/common_runtime/pluggable_device/pluggable_device_factory.cc:305] Could not identify NUMA node of platform GPU ID 0, defaulting to 0. Your kernel may not have been built with NUMA support.\n",
      "2022-06-18 18:20:00.161133: I tensorflow/core/common_runtime/pluggable_device/pluggable_device_factory.cc:271] Created TensorFlow device (/job:localhost/replica:0/task:0/device:GPU:0 with 0 MB memory) -> physical PluggableDevice (device: 0, name: METAL, pci bus id: <undefined>)\n",
      "2022-06-18 18:20:00.169984: I tensorflow/core/grappler/optimizers/custom_graph_optimizer_registry.cc:113] Plugin optimizer for device_type GPU is enabled.\n",
      "2022-06-18 18:20:00.182001: I tensorflow/core/grappler/optimizers/custom_graph_optimizer_registry.cc:113] Plugin optimizer for device_type GPU is enabled.\n",
      "2022-06-18 18:20:00.190030: I tensorflow/core/grappler/optimizers/custom_graph_optimizer_registry.cc:113] Plugin optimizer for device_type GPU is enabled.\n",
      "2022-06-18 18:20:00.193487: I tensorflow/core/grappler/optimizers/custom_graph_optimizer_registry.cc:113] Plugin optimizer for device_type GPU is enabled.\n",
      "2022-06-18 18:20:00.201300: I tensorflow/core/grappler/optimizers/custom_graph_optimizer_registry.cc:113] Plugin optimizer for device_type GPU is enabled.\n",
      "2022-06-18 18:20:00.206539: I tensorflow/core/grappler/optimizers/custom_graph_optimizer_registry.cc:113] Plugin optimizer for device_type GPU is enabled.\n"
     ]
    },
    {
     "name": "stdout",
     "output_type": "stream",
     "text": [
      "Prediction is \"Virginica\" (95.6%)\n"
     ]
    }
   ],
   "source": [
    "def input_fn(features, batch_size=256):\n",
    "    # Convert the inputs to a Dataset without labels.\n",
    "    return tf.data.Dataset.from_tensor_slices(dict(features)).batch(batch_size)\n",
    "\n",
    "features = ['SepalLength', 'SepalWidth', 'PetalLength', 'PetalWidth']\n",
    "predict = {}\n",
    "\n",
    "print(\"Please type numeric values as prompted.\")\n",
    "for feature in features:\n",
    "  valid = True\n",
    "  while valid: \n",
    "    val = input(feature + \": \")\n",
    "    if not val.isdigit(): valid = False\n",
    "\n",
    "  predict[feature] = [float(val)]\n",
    "\n",
    "predictions = classifier.predict(input_fn=lambda: input_fn(predict))\n",
    "for pred_dict in predictions:\n",
    "    class_id = pred_dict['class_ids'][0]\n",
    "    probability = pred_dict['probabilities'][class_id]\n",
    "\n",
    "    print('Prediction is \"{}\" ({:.1f}%)'.format(\n",
    "        SPECIES[class_id], 100 * probability))\n"
   ]
  },
  {
   "cell_type": "code",
   "execution_count": 43,
   "metadata": {},
   "outputs": [],
   "source": [
    "# Here is some example input and expected classes you can try above\n",
    "expected = ['Setosa', 'Versicolor', 'Virginica']\n",
    "predict_x = {\n",
    "    'SepalLength': [5.1, 5.9, 6.9],\n",
    "    'SepalWidth': [3.3, 3.0, 3.1],\n",
    "    'PetalLength': [1.7, 4.2, 5.4],\n",
    "    'PetalWidth': [0.5, 1.5, 2.1],\n",
    "}"
   ]
  }
 ],
 "metadata": {
  "kernelspec": {
   "display_name": "Python 3.10.5 (conda)",
   "language": "python",
   "name": "python3"
  },
  "language_info": {
   "codemirror_mode": {
    "name": "ipython",
    "version": 3
   },
   "file_extension": ".py",
   "mimetype": "text/x-python",
   "name": "python",
   "nbconvert_exporter": "python",
   "pygments_lexer": "ipython3",
   "version": "3.10.5"
  },
  "orig_nbformat": 4,
  "vscode": {
   "interpreter": {
    "hash": "7d9c98c1898bf08b6013804a07b93bb8b7c8f592f67f226b590ae48ec71b306c"
   }
  }
 },
 "nbformat": 4,
 "nbformat_minor": 2
}
