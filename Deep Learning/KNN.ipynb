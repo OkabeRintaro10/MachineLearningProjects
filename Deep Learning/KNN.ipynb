{
 "cells": [
  {
   "cell_type": "code",
   "execution_count": 1,
   "metadata": {},
   "outputs": [],
   "source": [
    "import numpy as np"
   ]
  },
  {
   "cell_type": "code",
   "execution_count": 2,
   "metadata": {},
   "outputs": [],
   "source": [
    "X = np.array([60, 65, 56, 59, 70, 40, 46]) #BMI of the individuals \n",
    "y = np.array([170, 144, 136, 148, 163, 142, 160]) #Height of the individuals \n",
    "Bp = np.array(['Y','Y','N','N','Y','N','N']) # Does the person have BP"
   ]
  },
  {
   "cell_type": "code",
   "execution_count": 3,
   "metadata": {},
   "outputs": [],
   "source": [
    "def Distance(X,y, Xi, yi):\n",
    "    for i in range(X.shape[0]):\n",
    "        distance_eu  = np.sqrt(np.square(Xi - X) + np.square(yi - y)) # finding the euclidien distance\n",
    "    return np.argsort(distance_eu), np.sort(distance_eu)\n",
    "\n",
    "dist_index, dist = Distance(X, y, 69, 155)"
   ]
  },
  {
   "cell_type": "code",
   "execution_count": 4,
   "metadata": {},
   "outputs": [],
   "source": [
    "X_values = X[dist_index] #Values of the BMI according to the sorted order of the distances\n",
    "Y_values = y[dist_index] #Values of the height according to the sorted order of the distances\n",
    "BP_values = Bp[dist_index] #Values of the BP according to the sorted order of the distances"
   ]
  },
  {
   "cell_type": "code",
   "execution_count": 5,
   "metadata": {},
   "outputs": [
    {
     "name": "stdout",
     "output_type": "stream",
     "text": [
      "The rank is 1 and the distance is 8.06225774829855, height 70, BMI 163, Bp history Y\n",
      "The rank is 2 and the distance is 11.704699910719626, height 65, BMI 144, Bp history Y\n",
      "The rank is 3 and the distance is 12.206555615733702, height 59, BMI 148, Bp history N\n",
      "The rank is 4 and the distance is 17.4928556845359, height 60, BMI 170, Bp history Y\n",
      "The rank is 5 and the distance is 23.021728866442675, height 56, BMI 136, Bp history N\n",
      "The rank is 6 and the distance is 23.53720459187964, height 46, BMI 160, Bp history N\n",
      "The rank is 7 and the distance is 31.78049716414141, height 40, BMI 142, Bp history N\n"
     ]
    }
   ],
   "source": [
    "for rank, distance in enumerate(dist, start=1):\n",
    "    print(\"The rank is {} and the distance is {}, height {}, BMI {}, Bp history {}\".format(rank, distance, X_values[rank-1],Y_values[rank-1], BP_values[rank - 1])) #ranking the data according to the euclidean distance"
   ]
  },
  {
   "cell_type": "code",
   "execution_count": 6,
   "metadata": {},
   "outputs": [
    {
     "name": "stdout",
     "output_type": "stream",
     "text": [
      "The Prediction is Y\n"
     ]
    }
   ],
   "source": [
    "def KNearest(arr, size):\n",
    "        freqMap = {} # creating a frequency map\n",
    "  \n",
    "        for i in range(size):\n",
    "            if (arr[i] in freqMap):\n",
    "  \n",
    "                # If number is present in freqMap,\n",
    "                # incrementing it's count by 1\n",
    "                freqMap[arr[i]] = freqMap[arr[i]] + 1\n",
    "            else:\n",
    "  \n",
    "                # If integer is not present in freqMap,\n",
    "                # putting this integer to freqMap with 1 as it's value\n",
    "                freqMap[arr[i]] = 1\n",
    "  \n",
    "        # Printing the freqMap\n",
    "        Keymax = max(zip(freqMap.values(), freqMap.keys()))[1]\n",
    "        print(\"The Prediction is\", Keymax) #shows the max value present in the key as that will be its nearest neighbour\n",
    "# Driver code\n",
    "KNearest(BP_values, 5) # Giving the BP values as that is the target result with K value to 5"
   ]
  }
 ],
 "metadata": {
  "kernelspec": {
   "display_name": "MLEnv",
   "language": "python",
   "name": "python3"
  },
  "language_info": {
   "codemirror_mode": {
    "name": "ipython",
    "version": 3
   },
   "file_extension": ".py",
   "mimetype": "text/x-python",
   "name": "python",
   "nbconvert_exporter": "python",
   "pygments_lexer": "ipython3",
   "version": "3.9.13"
  },
  "orig_nbformat": 4,
  "vscode": {
   "interpreter": {
    "hash": "15eefe1759615b5643544bf1f33002d7de27f1beb1069978b34c5a0fa50f9914"
   }
  }
 },
 "nbformat": 4,
 "nbformat_minor": 2
}
