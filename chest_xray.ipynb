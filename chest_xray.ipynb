{
 "cells": [
  {
   "cell_type": "markdown",
   "metadata": {},
   "source": [
    "Importing Libraries "
   ]
  },
  {
   "cell_type": "code",
   "execution_count": null,
   "metadata": {},
   "outputs": [
    {
     "ename": "",
     "evalue": "",
     "output_type": "error",
     "traceback": [
      "\u001b[1;31mFailed to start the Kernel. \n",
      "The 'python3105jvsc74a57bd005bcee58adcf44048299c032d993fbfdfbe1d910d103f67310fbc169a98d7007' kernel is not available. Please pick another suitable kernel instead, or install that kernel. \n",
      "View Jupyter <a href='command:jupyter.viewOutput'>log</a> for further details."
     ]
    }
   ],
   "source": [
    "import tensorflow as tf\n",
    "from tensorflow import keras\n",
    "\n",
    "import numpy as np\n",
    "import pandas as pd\n",
    "import matplotlib.pyplot as plt\n",
    "import matplotlib.image as mpimg\n",
    "from keras.preprocessing.image import ImageDataGenerator #image generator label data based on the dir the image in contained in\n",
    "from tensorflow.keras.optimizers import Adam\n",
    "from tensorflow.keras.models import Sequential\n",
    "from tensorflow.keras.layers import Dense, Conv2D, Flatten, Dropout, MaxPooling2D\n",
    "\n",
    "from keras.utils import get_file, image_dataset_from_directory\n",
    "import pathlib"
   ]
  },
  {
   "cell_type": "markdown",
   "metadata": {},
   "source": [
    "Loading images using image_dataset_from_directory and setting batch_size at 32"
   ]
  },
  {
   "cell_type": "code",
   "execution_count": null,
   "metadata": {},
   "outputs": [
    {
     "ename": "",
     "evalue": "",
     "output_type": "error",
     "traceback": [
      "\u001b[1;31mFailed to start the Kernel. \n",
      "The 'python3105jvsc74a57bd005bcee58adcf44048299c032d993fbfdfbe1d910d103f67310fbc169a98d7007' kernel is not available. Please pick another suitable kernel instead, or install that kernel. \n",
      "View Jupyter <a href='command:jupyter.viewOutput'>log</a> for further details."
     ]
    }
   ],
   "source": [
    "dataset  = image_dataset_from_directory(\n",
    "    'datasets/chest_xray',\n",
    "    color_mode='rgb',\n",
    "    batch_size = 128,\n",
    "    image_size=(256,256)\n",
    ")"
   ]
  },
  {
   "cell_type": "markdown",
   "metadata": {},
   "source": [
    "Getting the shape of the data and the labels in the class"
   ]
  },
  {
   "cell_type": "code",
   "execution_count": null,
   "metadata": {},
   "outputs": [
    {
     "ename": "",
     "evalue": "",
     "output_type": "error",
     "traceback": [
      "\u001b[1;31mFailed to start the Kernel. \n",
      "The 'python3105jvsc74a57bd005bcee58adcf44048299c032d993fbfdfbe1d910d103f67310fbc169a98d7007' kernel is not available. Please pick another suitable kernel instead, or install that kernel. \n",
      "View Jupyter <a href='command:jupyter.viewOutput'>log</a> for further details."
     ]
    }
   ],
   "source": [
    "for data, labels in dataset.take(1):\n",
    "    print(data.shape)\n",
    "    print(labels.shape)"
   ]
  },
  {
   "cell_type": "markdown",
   "metadata": {},
   "source": [
    "printing images from the training set "
   ]
  },
  {
   "cell_type": "markdown",
   "metadata": {},
   "source": [
    "Normalizing and augmenting dataset"
   ]
  },
  {
   "cell_type": "code",
   "execution_count": null,
   "metadata": {},
   "outputs": [
    {
     "ename": "",
     "evalue": "",
     "output_type": "error",
     "traceback": [
      "\u001b[1;31mFailed to start the Kernel. \n",
      "The 'python3105jvsc74a57bd005bcee58adcf44048299c032d993fbfdfbe1d910d103f67310fbc169a98d7007' kernel is not available. Please pick another suitable kernel instead, or install that kernel. \n",
      "View Jupyter <a href='command:jupyter.viewOutput'>log</a> for further details."
     ]
    }
   ],
   "source": [
    "test_image_generator = ImageDataGenerator(rescale=1./255)\n",
    "val_image_generator = ImageDataGenerator(rescale=1./255)\n",
    "train_image_generator = ImageDataGenerator(rescale=1./255)\n",
    "\n",
    "test_datagen = test_image_generator.flow_from_directory(\n",
    "    'datasets/chest_xray/',\n",
    "    target_size=(256,256),\n",
    "    color_mode='grayscale',\n",
    "    batch_size=32,\n",
    "    class_mode='binary',\n",
    "    classes=['test'],\n",
    "    shuffle=False)\n",
    "    \n",
    "val_datagen = val_image_generator.flow_from_directory(\n",
    "    'datasets/chest_xray/val/',\n",
    "    target_size=(256,256),\n",
    "    color_mode='grayscale',\n",
    "    batch_size=32,\n",
    "    class_mode='binary',\n",
    "    shuffle=True)\n",
    "\n",
    "train_datagen = val_image_generator.flow_from_directory(\n",
    "    'datasets/chest_xray/train/',\n",
    "    target_size=(256,256),\n",
    "    color_mode='grayscale',\n",
    "    batch_size=32,\n",
    "    class_mode='binary',\n",
    "    shuffle=True)"
   ]
  },
  {
   "cell_type": "code",
   "execution_count": null,
   "metadata": {},
   "outputs": [
    {
     "ename": "",
     "evalue": "",
     "output_type": "error",
     "traceback": [
      "\u001b[1;31mFailed to start the Kernel. \n",
      "The 'python3105jvsc74a57bd005bcee58adcf44048299c032d993fbfdfbe1d910d103f67310fbc169a98d7007' kernel is not available. Please pick another suitable kernel instead, or install that kernel. \n",
      "View Jupyter <a href='command:jupyter.viewOutput'>log</a> for further details."
     ]
    }
   ],
   "source": [
    "dataset_datagen = ImageDataGenerator(\n",
    "    rotation_range= 0.5,\n",
    "    width_shift_range= 0.2,\n",
    "    height_shift_range= 0.5,\n",
    "    horizontal_flip=True,\n",
    "    vertical_flip=True,\n",
    "    rescale= 1./255\n",
    ")\n",
    "\n",
    "train_datagen = dataset_datagen.flow_from_directory(\n",
    "    'datasets/chest_xray/train',\n",
    "    target_size=(256,256),\n",
    "    color_mode='grayscale',\n",
    "    batch_size=128,\n",
    "    class_mode='binary',\n",
    "    shuffle=True)\n"
   ]
  },
  {
   "cell_type": "markdown",
   "metadata": {},
   "source": [
    "Setting up the CNN"
   ]
  },
  {
   "cell_type": "code",
   "execution_count": null,
   "metadata": {},
   "outputs": [
    {
     "ename": "",
     "evalue": "",
     "output_type": "error",
     "traceback": [
      "\u001b[1;31mFailed to start the Kernel. \n",
      "The 'python3105jvsc74a57bd005bcee58adcf44048299c032d993fbfdfbe1d910d103f67310fbc169a98d7007' kernel is not available. Please pick another suitable kernel instead, or install that kernel. \n",
      "View Jupyter <a href='command:jupyter.viewOutput'>log</a> for further details."
     ]
    }
   ],
   "source": [
    "model = Sequential()\n",
    "model.add(Conv2D(filters=32, \n",
    "                 kernel_size=3, \n",
    "                  \n",
    "                 activation='relu', \n",
    "                 input_shape=(256,256, 1)\n",
    "                 )\n",
    "        )\n",
    "model.add(MaxPooling2D(pool_size=(2,2)))\n",
    "model.add(Conv2D(filters=32, \n",
    "                 kernel_size=5, \n",
    "                 activation='relu', \n",
    "                 # input_shape=(IMG_HEIGHT, IMG_WIDTH, 3)\n",
    "                 )\n",
    "        )\n",
    "model.add(MaxPooling2D(pool_size=(2,2)))\n",
    "model.add(Conv2D(filters=64, \n",
    "                 kernel_size=7, \n",
    "                \n",
    "                 activation='relu', \n",
    "                 #input_shape=(IMG_HEIGHT, IMG_WIDTH, 3)\n",
    "                 )\n",
    "        )\n",
    "model.add(MaxPooling2D(pool_size=(2,2)))\n",
    "model.add(Conv2D(filters=128, \n",
    "                 kernel_size=9, \n",
    "                \n",
    "                 activation='relu', \n",
    "                 # input_shape=(IMG_HEIGHT, IMG_WIDTH, 3)\n",
    "                 )\n",
    "        )\n",
    "model.add(MaxPooling2D(pool_size=(2,2)))\n",
    "model.add(Flatten())\n",
    "model.add(Dropout(0.5))\n",
    "model.add(Dense(128,\n",
    "                 activation = 'relu'\n",
    "))\n",
    "model.add(Dense(1, \n",
    "                activation = 'sigmoid'))\n",
    "model.summary()"
   ]
  },
  {
   "cell_type": "code",
   "execution_count": null,
   "metadata": {},
   "outputs": [
    {
     "ename": "",
     "evalue": "",
     "output_type": "error",
     "traceback": [
      "\u001b[1;31mFailed to start the Kernel. \n",
      "The 'python3105jvsc74a57bd005bcee58adcf44048299c032d993fbfdfbe1d910d103f67310fbc169a98d7007' kernel is not available. Please pick another suitable kernel instead, or install that kernel. \n",
      "View Jupyter <a href='command:jupyter.viewOutput'>log</a> for further details."
     ]
    }
   ],
   "source": [
    "model.compile(\n",
    "    loss = 'binary_crossentropy',\n",
    "    optimizer = 'Adam',\n",
    "    metrics = ['accuracy']\n",
    ")"
   ]
  },
  {
   "cell_type": "markdown",
   "metadata": {},
   "source": [
    "Evaluating the model based on the images from the val folder"
   ]
  },
  {
   "cell_type": "code",
   "execution_count": null,
   "metadata": {},
   "outputs": [
    {
     "ename": "",
     "evalue": "",
     "output_type": "error",
     "traceback": [
      "\u001b[1;31mFailed to start the Kernel. \n",
      "The 'python3105jvsc74a57bd005bcee58adcf44048299c032d993fbfdfbe1d910d103f67310fbc169a98d7007' kernel is not available. Please pick another suitable kernel instead, or install that kernel. \n",
      "View Jupyter <a href='command:jupyter.viewOutput'>log</a> for further details."
     ]
    }
   ],
   "source": [
    "STEP_SIZE_TRAIN=train_datagen.n//train_datagen.batch_size\n",
    "STEP_SIZE_VALID=val_datagen.n//val_datagen.batch_size"
   ]
  },
  {
   "cell_type": "code",
   "execution_count": null,
   "metadata": {},
   "outputs": [
    {
     "ename": "",
     "evalue": "",
     "output_type": "error",
     "traceback": [
      "\u001b[1;31mFailed to start the Kernel. \n",
      "The 'python3105jvsc74a57bd005bcee58adcf44048299c032d993fbfdfbe1d910d103f67310fbc169a98d7007' kernel is not available. Please pick another suitable kernel instead, or install that kernel. \n",
      "View Jupyter <a href='command:jupyter.viewOutput'>log</a> for further details."
     ]
    }
   ],
   "source": [
    "history = model.fit(\n",
    "    train_datagen,\n",
    "    epochs = 15,\n",
    "    steps_per_epoch=STEP_SIZE_TRAIN,\n",
    "    validation_data=val_datagen,\n",
    "    validation_steps=STEP_SIZE_VALID,\n",
    ")"
   ]
  },
  {
   "cell_type": "code",
   "execution_count": null,
   "metadata": {},
   "outputs": [
    {
     "ename": "",
     "evalue": "",
     "output_type": "error",
     "traceback": [
      "\u001b[1;31mFailed to start the Kernel. \n",
      "The 'python3105jvsc74a57bd005bcee58adcf44048299c032d993fbfdfbe1d910d103f67310fbc169a98d7007' kernel is not available. Please pick another suitable kernel instead, or install that kernel. \n",
      "View Jupyter <a href='command:jupyter.viewOutput'>log</a> for further details."
     ]
    }
   ],
   "source": [
    "history = model.evaluate(\n",
    "    val_datagen,\n",
    "    batch_size = 128,\n",
    ")"
   ]
  },
  {
   "cell_type": "code",
   "execution_count": null,
   "metadata": {},
   "outputs": [
    {
     "ename": "",
     "evalue": "",
     "output_type": "error",
     "traceback": [
      "\u001b[1;31mFailed to start the Kernel. \n",
      "The 'python3105jvsc74a57bd005bcee58adcf44048299c032d993fbfdfbe1d910d103f67310fbc169a98d7007' kernel is not available. Please pick another suitable kernel instead, or install that kernel. \n",
      "View Jupyter <a href='command:jupyter.viewOutput'>log</a> for further details."
     ]
    }
   ],
   "source": [
    "print('The testing accuracy is :',history[1]*100, '%')"
   ]
  },
  {
   "cell_type": "code",
   "execution_count": null,
   "metadata": {},
   "outputs": [
    {
     "ename": "",
     "evalue": "",
     "output_type": "error",
     "traceback": [
      "\u001b[1;31mFailed to start the Kernel. \n",
      "The 'python3105jvsc74a57bd005bcee58adcf44048299c032d993fbfdfbe1d910d103f67310fbc169a98d7007' kernel is not available. Please pick another suitable kernel instead, or install that kernel. \n",
      "View Jupyter <a href='command:jupyter.viewOutput'>log</a> for further details."
     ]
    }
   ],
   "source": [
    "def plotImages(images_arr, probabilities = False):\n",
    "    fig, axes = plt.subplots(len(images_arr), 1, figsize=(5,len(images_arr) * 3))\n",
    "    if probabilities is False:\n",
    "      for img, ax in zip( images_arr, axes):\n",
    "          ax.imshow(img)\n",
    "          ax.axis('off')\n",
    "    else:\n",
    "      for img, probability, ax in zip( images_arr, probabilities, axes):\n",
    "          ax.imshow(img)\n",
    "          ax.axis('off')\n",
    "          if probability > 0.5:\n",
    "              ax.set_title(\"%.2f\" % (probability*100) + \"% normal\")\n",
    "          else:\n",
    "              ax.set_title(\"%.2f\" % ((1-probability)*100) + \"% pnuemonia\")\n",
    "    plt.show()"
   ]
  },
  {
   "cell_type": "code",
   "execution_count": null,
   "metadata": {},
   "outputs": [
    {
     "ename": "",
     "evalue": "",
     "output_type": "error",
     "traceback": [
      "\u001b[1;31mFailed to start the Kernel. \n",
      "The 'python3105jvsc74a57bd005bcee58adcf44048299c032d993fbfdfbe1d910d103f67310fbc169a98d7007' kernel is not available. Please pick another suitable kernel instead, or install that kernel. \n",
      "View Jupyter <a href='command:jupyter.viewOutput'>log</a> for further details."
     ]
    }
   ],
   "source": [
    "probabilities = model.predict(test_datagen)\n",
    "probabilities = probabilities.reshape(-1)\n",
    "probabilities = probabilities.tolist()\n",
    "\n",
    "sample_testing_images, _ = next(test_datagen)\n",
    "plotImages(sample_testing_images, probabilities = probabilities)"
   ]
  }
 ],
 "metadata": {
  "kernelspec": {
   "display_name": "Python 3 (ipykernel)",
   "language": "python",
   "name": "python3"
  },
  "language_info": {
   "codemirror_mode": {
    "name": "ipython",
    "version": 3
   },
   "file_extension": ".py",
   "mimetype": "text/x-python",
   "name": "python",
   "nbconvert_exporter": "python",
   "pygments_lexer": "ipython3",
   "version": "3.10.5"
  },
  "vscode": {
   "interpreter": {
    "hash": "05bcee58adcf44048299c032d993fbfdfbe1d910d103f67310fbc169a98d7007"
   }
  }
 },
 "nbformat": 4,
 "nbformat_minor": 2
}
