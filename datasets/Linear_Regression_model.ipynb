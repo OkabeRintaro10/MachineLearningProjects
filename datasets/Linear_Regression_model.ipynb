{
 "cells": [
  {
   "cell_type": "code",
   "execution_count": 1,
   "metadata": {},
   "outputs": [],
   "source": [
    "import numpy as np\n",
    "import matplotlib.pyplot as plt\n",
    "import pandas as pd"
   ]
  },
  {
   "attachments": {},
   "cell_type": "markdown",
   "metadata": {},
   "source": [
    "Preparing Dataset"
   ]
  },
  {
   "cell_type": "code",
   "execution_count": 2,
   "metadata": {},
   "outputs": [],
   "source": [
    "X = np.array([20,25,30,35,40]) #temp\n",
    "Y = np.array([13, 21, 25, 35, 38]) #IceCream in Liters"
   ]
  },
  {
   "cell_type": "code",
   "execution_count": 3,
   "metadata": {},
   "outputs": [
    {
     "data": {
      "text/plain": [
       "[<matplotlib.lines.Line2D at 0x11daf5bb0>]"
      ]
     },
     "execution_count": 3,
     "metadata": {},
     "output_type": "execute_result"
    },
    {
     "data": {
      "image/png": "[encoded data removed]",
      "text/plain": [
       "<Figure size 432x288 with 1 Axes>"
      ]
     },
     "metadata": {
      "needs_background": "light"
     },
     "output_type": "display_data"
    }
   ],
   "source": [
    "plt.plot(X, Y)"
   ]
  },
  {
   "attachments": {},
   "cell_type": "markdown",
   "metadata": {},
   "source": [
    "Finding mean and Linear Regression Variable m"
   ]
  },
  {
   "cell_type": "code",
   "execution_count": 4,
   "metadata": {},
   "outputs": [
    {
     "name": "stdout",
     "output_type": "stream",
     "text": [
      "30.0\n",
      "26.4\n"
     ]
    }
   ],
   "source": [
    "X_mean = np.mean(X)\n",
    "print(X_mean)\n",
    "Y_mean = np.mean(Y)\n",
    "print(Y_mean)"
   ]
  },
  {
   "cell_type": "code",
   "execution_count": 5,
   "metadata": {},
   "outputs": [
    {
     "name": "stdout",
     "output_type": "stream",
     "text": [
      "[-10.0, -5.0, 0.0, 5.0, 10.0]\n",
      "[-13.399999999999999, -5.399999999999999, -1.3999999999999986, 8.600000000000001, 11.600000000000001]\n"
     ]
    }
   ],
   "source": [
    "X_dev = []\n",
    "for i in X:\n",
    "    X_dev.append(i - X_mean) #Deviation form the mean for X elements\n",
    "print(X_dev)\n",
    "\n",
    "Y_dev = []\n",
    "for i in Y:\n",
    "    Y_dev.append(i - Y_mean) #Deviation form the mean for Y elements\n",
    "print(Y_dev)"
   ]
  },
  {
   "cell_type": "code",
   "execution_count": 6,
   "metadata": {},
   "outputs": [
    {
     "name": "stdout",
     "output_type": "stream",
     "text": [
      "1.28\n"
     ]
    }
   ],
   "source": [
    "m = np.sum(np.dot(X_dev,Y_dev))/np.sum(np.square(X_dev))\n",
    "print(m)"
   ]
  },
  {
   "attachments": {},
   "cell_type": "markdown",
   "metadata": {},
   "source": [
    "Predicting the value at 50C temperature"
   ]
  },
  {
   "cell_type": "code",
   "execution_count": 7,
   "metadata": {},
   "outputs": [
    {
     "data": {
      "text/plain": [
       "52.0"
      ]
     },
     "execution_count": 7,
     "metadata": {},
     "output_type": "execute_result"
    }
   ],
   "source": [
    "c = Y_mean - m*X_mean\n",
    "y_pred = m*50 + c\n",
    "y_pred"
   ]
  }
 ],
 "metadata": {
  "kernelspec": {
   "display_name": "MLEnv",
   "language": "python",
   "name": "python3"
  },
  "language_info": {
   "codemirror_mode": {
    "name": "ipython",
    "version": 3
   },
   "file_extension": ".py",
   "mimetype": "text/x-python",
   "name": "python",
   "nbconvert_exporter": "python",
   "pygments_lexer": "ipython3",
   "version": "3.9.13"
  },
  "orig_nbformat": 4,
  "vscode": {
   "interpreter": {
    "hash": "15eefe1759615b5643544bf1f33002d7de27f1beb1069978b34c5a0fa50f9914"
   }
  }
 },
 "nbformat": 4,
 "nbformat_minor": 2
}
