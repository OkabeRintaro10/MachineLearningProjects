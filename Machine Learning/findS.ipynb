{
 "cells": [
  {
   "attachments": {},
   "cell_type": "markdown",
   "metadata": {},
   "source": [
    "## Experiment 1\n",
    "Implement and demonstrate the FIND-S algorithm for finding the most specific\n",
    "hypothesis based on a given set of training data samples. Read the training data from\n",
    "a .CSV file"
   ]
  },
  {
   "cell_type": "code",
   "execution_count": 1,
   "metadata": {},
   "outputs": [
    {
     "name": "stdout",
     "output_type": "stream",
     "text": [
      "\n",
      "Given Training Data Set:\n",
      "\n",
      "['circle', 'small', 'green', 'no']\n",
      "['circle', 'big', 'yellow', 'yes']\n",
      "['square', 'large', 'green', 'yes']\n",
      "['circle', 'large', 'white', 'no']\n",
      "['square', 'big', 'green', 'yes']\n",
      "['square', 'small', 'white', 'yes']\n"
     ]
    }
   ],
   "source": [
    "import csv\n",
    "attribute_no = 3\n",
    "a = []\n",
    "\n",
    "print(\"\\nGiven Training Data Set:\\n\")\n",
    "with open('/Users/futuregadgetlab/Developer/MLProjects/datasets/test.csv', 'r') as csvfile:\n",
    "    reader = csv.reader(csvfile)\n",
    "    for r in reader:\n",
    "        a.append(r)\n",
    "        print(r)"
   ]
  },
  {
   "cell_type": "code",
   "execution_count": 2,
   "metadata": {},
   "outputs": [
    {
     "name": "stdout",
     "output_type": "stream",
     "text": [
      "\n",
      "Initial Hypothesis:\n",
      "\n",
      "['0', '0', '0']\n"
     ]
    }
   ],
   "source": [
    "print(\"\\nInitial Hypothesis:\\n\")\n",
    "hypothesis = ['0'] * attribute_no\n",
    "print(hypothesis)"
   ]
  },
  {
   "cell_type": "code",
   "execution_count": 3,
   "metadata": {},
   "outputs": [
    {
     "name": "stdout",
     "output_type": "stream",
     "text": [
      "Hypothesis 0 : ['circle', 'small', 'green']\n",
      "Hypothesis 1 : ['circle', '?', '?']\n",
      "Hypothesis 2 : ['?', '?', '?']\n",
      "Hypothesis 3 : ['?', '?', '?']\n",
      "Hypothesis 4 : ['?', '?', '?']\n",
      "Hypothesis 5 : ['?', '?', '?']\n"
     ]
    }
   ],
   "source": [
    "for j in range(0, attribute_no):\n",
    "    hypothesis[j] = a[0][j];\n",
    "\n",
    "for i in range(0, len(a)):\n",
    "    if a[i][attribute_no] == 'yes':\n",
    "        for j in range(0,attribute_no):\n",
    "            if a[i][j] != hypothesis[j]:\n",
    "                hypothesis[j] = '?'\n",
    "            else :\n",
    "                hypothesis[j] = a[i][j]\n",
    "    print(\"Hypothesis {0} :\".format(i), hypothesis)\n"
   ]
  },
  {
   "cell_type": "code",
   "execution_count": 4,
   "metadata": {},
   "outputs": [
    {
     "name": "stdout",
     "output_type": "stream",
     "text": [
      "\n",
      "Final Hypothesis: \n",
      "\n",
      "['?', '?', '?']\n"
     ]
    }
   ],
   "source": [
    "print(\"\\nFinal Hypothesis: \\n\")\n",
    "print(hypothesis)"
   ]
  }
 ],
 "metadata": {
  "kernelspec": {
   "display_name": "MLEnv",
   "language": "python",
   "name": "python3"
  },
  "language_info": {
   "codemirror_mode": {
    "name": "ipython",
    "version": 3
   },
   "file_extension": ".py",
   "mimetype": "text/x-python",
   "name": "python",
   "nbconvert_exporter": "python",
   "pygments_lexer": "ipython3",
   "version": "3.9.13"
  },
  "orig_nbformat": 4,
  "vscode": {
   "interpreter": {
    "hash": "15eefe1759615b5643544bf1f33002d7de27f1beb1069978b34c5a0fa50f9914"
   }
  }
 },
 "nbformat": 4,
 "nbformat_minor": 2
}
