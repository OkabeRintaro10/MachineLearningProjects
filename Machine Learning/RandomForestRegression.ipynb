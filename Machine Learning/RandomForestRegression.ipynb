{
 "cells": [
  {
   "cell_type": "code",
   "execution_count": 1,
   "metadata": {},
   "outputs": [],
   "source": [
    "import numpy as np\n",
    "import pandas as pd\n",
    "import matplotlib.pyplot as plt\n",
    "import seaborn as sns\n",
    "from sklearn.model_selection import train_test_split\n",
    "from sklearn.ensemble import RandomForestRegressor\n",
    "from sklearn.metrics import r2_score, mean_squared_error, mean_absolute_error\n",
    "from sklearn.preprocessing import MinMaxScaler\n",
    "from sklearn.datasets import make_regression \n",
    "sns.set()"
   ]
  },
  {
   "attachments": {},
   "cell_type": "markdown",
   "metadata": {},
   "source": [
    "# Dataset Gathering and Structuring"
   ]
  },
  {
   "cell_type": "code",
   "execution_count": 2,
   "metadata": {},
   "outputs": [
    {
     "name": "stdout",
     "output_type": "stream",
     "text": [
      "[[-0.53945463 -2.28862004 -2.01640663 -0.27567053  0.25148442 -0.70972797]\n",
      " [ 0.33996498  0.69845715  0.93184837 -0.01568211  0.00377089  0.16092817]\n",
      " [ 0.06326199 -0.46359597 -1.54079701  0.15650654  0.48148147  0.23218104]\n",
      " [-2.22340315 -0.35399391 -0.6436184   0.62523145 -1.37495129 -1.60205766]\n",
      " [-0.18718385  2.26975462  0.04575852  1.53277921 -1.45436567  1.46935877]\n",
      " [-0.96461201  0.87583276  0.45741561 -0.78262916 -0.11510747 -0.1103893 ]\n",
      " [-1.47183501  0.03863055 -0.98551074  1.64813493 -1.6567151   0.16422776]\n",
      " [-0.29779088 -0.63743703 -0.13288058 -0.30901297 -0.39727181 -1.67600381]\n",
      " [-0.43782004  1.12663592 -1.14746865 -0.49803245 -1.07993151  1.92953205]\n",
      " [-1.46642433  1.15233156 -0.81336426  0.52106488  1.07961859 -0.57578797]]\n"
     ]
    }
   ],
   "source": [
    "X, y = make_regression(n_samples=100, \n",
    "                       n_features=6,\n",
    "                       n_informative=6,\n",
    "                       noise= 20,\n",
    "                       random_state=0\n",
    ")\n",
    "print(X[:10])"
   ]
  },
  {
   "attachments": {},
   "cell_type": "markdown",
   "metadata": {},
   "source": [
    "# Normalizing the dataset using min max normalization"
   ]
  },
  {
   "cell_type": "code",
   "execution_count": 3,
   "metadata": {},
   "outputs": [
    {
     "name": "stdout",
     "output_type": "stream",
     "text": [
      "[[0.43652528 0.13191825 0.17932264 0.48246176 0.57426274 0.40687317]\n",
      " [0.58967112 0.65210046 0.69274419 0.52773724 0.53112486 0.55849289]\n",
      " [0.54148489 0.44973563 0.2621473  0.55772289 0.6143154  0.57090117]\n",
      " [0.14327539 0.46882219 0.41838576 0.63934862 0.29102837 0.25147912]\n",
      " [0.4978712  0.92573282 0.53843677 0.79739281 0.27719882 0.78634851]\n",
      " [0.36248658 0.68298939 0.61012447 0.39417785 0.51042289 0.51124453]\n",
      " [0.27415664 0.53719547 0.35884719 0.81748135 0.24196084 0.5590675 ]\n",
      " [0.47860963 0.41946222 0.5073278  0.47665536 0.4612856  0.23860182]\n",
      " [0.45422436 0.72666531 0.33064316 0.44373872 0.34240436 0.86648503]\n",
      " [0.27509887 0.73114006 0.38882551 0.62120862 0.71847751 0.43019804]\n",
      " [0.58314192 0.52556041 0.54205177 0.42000466 0.6050597  0.46729891]\n",
      " [0.50267939 0.29811479 0.65128476 0.50718483 0.29594512 0.71815103]\n",
      " [0.41038708 0.35036078 0.39055904 0.45113984 0.64916393 0.53351208]\n",
      " [0.47782391 0.74471619 0.46301746 0.34786875 0.73985568 0.28318028]\n",
      " [0.59791084 0.49443711 0.23475288 0.13767473 0.68374625 0.35240454]\n",
      " [0.38889016 0.5197363  0.40515324 0.57827362 0.51178159 0.37532048]\n",
      " [0.6873419  0.47621311 0.32756408 0.6115606  0.54024905 0.26294024]\n",
      " [0.449244   0.68897057 0.66740265 0.36599833 0.5857099  0.4590604 ]\n",
      " [0.22984606 0.41336309 0.38886347 0.56136592 0.46785408 0.46050036]\n",
      " [0.63198619 0.50679333 0.54748642 0.46090645 0.72845124 0.59491128]\n",
      " [0.64826513 0.41303705 0.41973927 0.63087814 0.53601129 0.49419416]\n",
      " [0.86893857 0.30922057 0.32617553 0.45843883 0.69928301 0.40030325]\n",
      " [0.44455938 0.42644905 0.28247622 0.435932   0.48903549 0.60292089]\n",
      " [0.49272565 0.59172866 0.44861468 0.36848681 0.59650986 0.49936793]\n",
      " [0.44723178 0.41687503 0.20950829 0.4469389  0.43970608 0.63849999]\n",
      " [0.41121247 0.72888822 0.60053365 0.3788239  0.31543041 0.42966487]\n",
      " [0.33403154 0.49726698 0.48384394 0.57930548 0.46170743 0.35752146]\n",
      " [0.4204258  0.71823001 0.73619843 0.5590154  0.08480099 0.54724199]\n",
      " [0.60038692 0.11781834 0.1404541  0.7437723  0.68093789 0.5417625 ]\n",
      " [0.75648052 0.69459355 0.41239392 0.118761   0.48386811 0.53400926]\n",
      " [0.81946935 0.22469    0.41135165 0.71654291 0.60899581 0.45151367]\n",
      " [0.59237328 0.66397814 0.22248745 0.6723121  0.59251452 0.54072973]\n",
      " [0.72778749 0.39017299 0.50764589 0.1905728  0.33572063 0.41555186]\n",
      " [0.52165587 0.4488182  0.56517516 0.44034524 0.14709992 0.36001063]\n",
      " [0.63649481 0.40995171 0.58033328 0.34844336 0.79801936 0.74138213]\n",
      " [0.92346352 0.32892146 0.50301139 0.40774871 0.4760843  0.69473158]\n",
      " [0.49913532 0.78963869 0.73574583 0.34400281 0.86062631 0.71409485]\n",
      " [0.68825062 0.86533741 0.85569277 0.38049072 0.78829127 0.86309494]\n",
      " [0.616467   0.6770334  0.53908745 0.64249768 0.48702642 0.25695321]\n",
      " [0.55201364 0.69233612 0.16570518 0.50781081 0.63185923 0.5468296 ]\n",
      " [0.79917525 0.33814622 0.40167757 0.30532464 0.53955243 0.57697355]\n",
      " [0.66419394 0.60949168 0.53691252 0.63319234 0.21182948 0.46710428]\n",
      " [0.53951417 0.24657858 0.37246743 0.65743509 0.61105904 0.55292981]\n",
      " [0.45418008 0.23333111 0.44171521 0.31230112 0.87018443 0.66586363]\n",
      " [0.58857564 0.6629985  0.6077644  0.79065341 0.55165718 0.49474106]\n",
      " [0.72499011 0.94547906 0.37150548 0.30131052 0.69494382 0.4500859 ]\n",
      " [0.60142531 0.45468871 0.64754443 0.39639176 0.85250676 0.62437531]\n",
      " [0.18764359 0.68637258 0.29847123 0.4155232  0.76991022 0.56108604]\n",
      " [0.28008512 0.63121436 0.39739694 0.76809351 0.59135848 0.4104046 ]\n",
      " [0.40194437 0.64194339 0.52623193 0.57921543 0.24888465 0.51337586]\n",
      " [0.50059438 0.52362731 0.62159379 0.66487104 0.32705146 0.67387667]\n",
      " [0.76145061 0.59602051 0.58240464 0.40951321 0.3390139  0.5044102 ]\n",
      " [0.44850936 0.33197818 0.43393837 0.49268767 0.66716399 0.60803084]\n",
      " [0.92070677 0.83766769 0.70090974 0.8556926  0.60015325 0.3602809 ]\n",
      " [0.63789541 0.40350928 0.59224718 0.53197068 0.56469752 0.62224292]\n",
      " [0.32856181 0.66988191 0.46164134 0.51550384 0.54409674 0.56430318]\n",
      " [0.59784502 0.24941721 0.37452787 0.44151443 0.4934207  0.32486792]\n",
      " [0.64429208 0.58498711 0.08587978 0.68100475 0.38173235 0.40122444]\n",
      " [0.67893517 0.67987067 0.78586438 0.42621607 0.72918447 0.33614118]\n",
      " [0.4816459  0.41068525 0.45368406 0.46695891 0.31904363 0.55775725]\n",
      " [0.65145473 0.55518851 0.65089566 0.4041096  0.47485899 0.28956336]\n",
      " [0.5790711  0.34681074 0.61111965 0.58948638 0.6733096  0.88242122]\n",
      " [0.60692497 0.46213591 0.62508281 0.49223639 0.         0.34168948]\n",
      " [0.52310935 0.52750418 0.92391376 0.36399589 0.59649527 0.47021746]\n",
      " [0.83394387 0.61731221 0.57997384 0.49170269 0.71296647 0.37146072]\n",
      " [0.50347407 0.48379695 0.69542663 0.63740655 0.67021132 0.69106514]\n",
      " [0.44220905 0.25480862 0.32343522 0.42662355 0.63676222 0.52131389]\n",
      " [0.52270215 0.29573477 0.8807169  0.56443844 0.39784459 0.22021932]\n",
      " [0.41201909 0.30294409 0.5098906  0.64651494 0.81922205 0.4502365 ]\n",
      " [0.3865487  0.5185843  0.40077344 0.51332325 0.8288369  0.41492728]\n",
      " [0.49873131 0.30761772 0.48490414 0.49513487 0.42851873 0.51133273]\n",
      " [0.60197154 0.69592058 0.51249322 0.55555254 0.5041102  0.7837215 ]\n",
      " [0.57747047 0.6946942  0.43132579 0.44916973 0.05336926 0.28372218]\n",
      " [0.37680005 0.8332828  0.76018824 0.72700631 0.70363621 0.61684388]\n",
      " [0.55520743 0.83221155 0.59504521 0.79516649 0.64967009 0.82992471]\n",
      " [0.51759463 0.72207633 1.         0.415785   0.7565112  0.44091732]\n",
      " [0.48878169 0.90718321 0.4661773  0.72196754 0.76321679 0.64457857]\n",
      " [0.58529178 0.68179315 0.36135594 0.67354258 0.57868382 0.53138987]\n",
      " [0.66983544 0.49824216 0.27856254 0.47663769 0.38982087 0.48981132]\n",
      " [0.24896856 0.6292585  0.46892009 0.4796464  0.4916906  0.39785872]\n",
      " [0.58597276 0.7373567  0.69083042 0.67968028 0.58566191 0.41709585]\n",
      " [0.18552394 0.55745138 0.37586543 0.4698813  0.596323   0.55769545]\n",
      " [0.4467001  0.65059603 0.42109037 0.93168194 0.75717717 0.34587256]\n",
      " [0.95058303 0.45398587 0.44290557 0.36320191 0.56204722 0.39235139]\n",
      " [0.37570269 0.23769376 0.57263163 0.69359646 0.37565897 0.77641688]\n",
      " [0.56886832 0.79400551 0.5225091  0.35111092 0.62679293 0.46952757]\n",
      " [0.59840068 0.5999598  0.87107899 0.41685501 0.0476372  0.46238592]\n",
      " [0.67750911 0.69580432 0.31706568 0.35628647 0.54571473 0.26145524]\n",
      " [0.32430222 0.66058671 0.66512572 0.06738873 0.3234203  0.63605522]\n",
      " [0.52450509 0.35318208 0.59711882 0.72139064 0.51691023 0.48968086]\n",
      " [0.54586638 0.19327626 0.62170077 0.47632916 0.56334288 0.54742986]\n",
      " [0.70054422 0.46025725 0.56673807 0.59252733 0.74334992 0.65351381]\n",
      " [0.60698571 0.59943046 0.2707743  0.55949341 0.34011785 0.64105523]\n",
      " [0.25745051 0.46996166 0.24615433 0.32512465 0.42924364 0.75710435]\n",
      " [0.88998767 0.61645046 0.17683624 0.51121817 0.51024936 0.70812536]\n",
      " [0.45657573 0.66480407 0.37221232 0.68068429 0.709739   0.06800749]\n",
      " [0.79486458 0.5676445  0.48832183 0.46348441 0.32000208 0.4531767 ]\n",
      " [0.54689897 0.33423799 0.46344359 0.52312427 0.40322488 0.48050844]\n",
      " [0.60047231 0.5322967  0.55256919 0.85840798 0.8414672  0.29576374]\n",
      " [0.16999227 0.32912571 0.79072402 0.60469868 0.66650931 0.6483478 ]]\n",
      "[0.06447961 0.59802659 0.41879819 0.20324623 0.94198348 0.47558613\n",
      " 0.49616948 0.13874942 0.5702948  0.49131252 0.39412719 0.50307699\n",
      " 0.28690343 0.22706039 0.         0.29545709 0.26439241 0.46705281\n",
      " 0.29870179 0.51786027 0.43651219 0.20678816 0.31675174 0.36273001\n",
      " 0.28166561 0.36586306 0.31181718 0.60312161 0.28881423 0.20573842\n",
      " 0.38762104 0.46777624 0.03938546 0.19430344 0.45418247 0.41482933\n",
      " 0.74020018 0.91093658 0.42820036 0.40090159 0.24688152 0.515713\n",
      " 0.41620449 0.2720867  0.71803267 0.40170207 0.4900532  0.44733651\n",
      " 0.54010287 0.49569046 0.63264345 0.39382799 0.36140407 0.78802305\n",
      " 0.5263298  0.51956191 0.10739339 0.26504671 0.47103367 0.2910567\n",
      " 0.30983385 0.74218495 0.22529951 0.48868405 0.45915336 0.71558202\n",
      " 0.20286904 0.29835845 0.44290053 0.36211453 0.25940168 0.70038056\n",
      " 0.20499423 0.92077695 1.         0.69764182 0.84566199 0.54866464\n",
      " 0.22527025 0.3398811  0.67497842 0.36485324 0.66792934 0.26330949\n",
      " 0.62862021 0.35832986 0.47782186 0.15994772 0.2519606  0.48907176\n",
      " 0.33857049 0.59530194 0.49535056 0.29173796 0.49257367 0.26423937\n",
      " 0.34166926 0.30184805 0.62847474 0.59716775]\n"
     ]
    }
   ],
   "source": [
    "normalized_X=(X-X.min())/(X.max()-X.min())\n",
    "print(normalized_X)\n",
    "normalized_y = (y-y.min())/(y.max()-y.min())\n",
    "print(normalized_y)"
   ]
  },
  {
   "attachments": {},
   "cell_type": "markdown",
   "metadata": {},
   "source": [
    "## Splitting the dataset into 75/ 25 split"
   ]
  },
  {
   "cell_type": "code",
   "execution_count": 4,
   "metadata": {},
   "outputs": [],
   "source": [
    "X_train, X_test, y_train, y_test = train_test_split(normalized_X, normalized_y, test_size = 0.25, random_state = 50, shuffle = True)"
   ]
  },
  {
   "attachments": {},
   "cell_type": "markdown",
   "metadata": {},
   "source": [
    "Generating a randomn forest Regressor"
   ]
  },
  {
   "cell_type": "code",
   "execution_count": 5,
   "metadata": {},
   "outputs": [
    {
     "data": {
      "text/html": [
       "<style>#sk-container-id-1 {color: black;background-color: white;}#sk-container-id-1 pre{padding: 0;}#sk-container-id-1 div.sk-toggleable {background-color: white;}#sk-container-id-1 label.sk-toggleable__label {cursor: pointer;display: block;width: 100%;margin-bottom: 0;padding: 0.3em;box-sizing: border-box;text-align: center;}#sk-container-id-1 label.sk-toggleable__label-arrow:before {content: \"▸\";float: left;margin-right: 0.25em;color: #696969;}#sk-container-id-1 label.sk-toggleable__label-arrow:hover:before {color: black;}#sk-container-id-1 div.sk-estimator:hover label.sk-toggleable__label-arrow:before {color: black;}#sk-container-id-1 div.sk-toggleable__content {max-height: 0;max-width: 0;overflow: hidden;text-align: left;background-color: #f0f8ff;}#sk-container-id-1 div.sk-toggleable__content pre {margin: 0.2em;color: black;border-radius: 0.25em;background-color: #f0f8ff;}#sk-container-id-1 input.sk-toggleable__control:checked~div.sk-toggleable__content {max-height: 200px;max-width: 100%;overflow: auto;}#sk-container-id-1 input.sk-toggleable__control:checked~label.sk-toggleable__label-arrow:before {content: \"▾\";}#sk-container-id-1 div.sk-estimator input.sk-toggleable__control:checked~label.sk-toggleable__label {background-color: #d4ebff;}#sk-container-id-1 div.sk-label input.sk-toggleable__control:checked~label.sk-toggleable__label {background-color: #d4ebff;}#sk-container-id-1 input.sk-hidden--visually {border: 0;clip: rect(1px 1px 1px 1px);clip: rect(1px, 1px, 1px, 1px);height: 1px;margin: -1px;overflow: hidden;padding: 0;position: absolute;width: 1px;}#sk-container-id-1 div.sk-estimator {font-family: monospace;background-color: #f0f8ff;border: 1px dotted black;border-radius: 0.25em;box-sizing: border-box;margin-bottom: 0.5em;}#sk-container-id-1 div.sk-estimator:hover {background-color: #d4ebff;}#sk-container-id-1 div.sk-parallel-item::after {content: \"\";width: 100%;border-bottom: 1px solid gray;flex-grow: 1;}#sk-container-id-1 div.sk-label:hover label.sk-toggleable__label {background-color: #d4ebff;}#sk-container-id-1 div.sk-serial::before {content: \"\";position: absolute;border-left: 1px solid gray;box-sizing: border-box;top: 0;bottom: 0;left: 50%;z-index: 0;}#sk-container-id-1 div.sk-serial {display: flex;flex-direction: column;align-items: center;background-color: white;padding-right: 0.2em;padding-left: 0.2em;position: relative;}#sk-container-id-1 div.sk-item {position: relative;z-index: 1;}#sk-container-id-1 div.sk-parallel {display: flex;align-items: stretch;justify-content: center;background-color: white;position: relative;}#sk-container-id-1 div.sk-item::before, #sk-container-id-1 div.sk-parallel-item::before {content: \"\";position: absolute;border-left: 1px solid gray;box-sizing: border-box;top: 0;bottom: 0;left: 50%;z-index: -1;}#sk-container-id-1 div.sk-parallel-item {display: flex;flex-direction: column;z-index: 1;position: relative;background-color: white;}#sk-container-id-1 div.sk-parallel-item:first-child::after {align-self: flex-end;width: 50%;}#sk-container-id-1 div.sk-parallel-item:last-child::after {align-self: flex-start;width: 50%;}#sk-container-id-1 div.sk-parallel-item:only-child::after {width: 0;}#sk-container-id-1 div.sk-dashed-wrapped {border: 1px dashed gray;margin: 0 0.4em 0.5em 0.4em;box-sizing: border-box;padding-bottom: 0.4em;background-color: white;}#sk-container-id-1 div.sk-label label {font-family: monospace;font-weight: bold;display: inline-block;line-height: 1.2em;}#sk-container-id-1 div.sk-label-container {text-align: center;}#sk-container-id-1 div.sk-container {/* jupyter's `normalize.less` sets `[hidden] { display: none; }` but bootstrap.min.css set `[hidden] { display: none !important; }` so we also need the `!important` here to be able to override the default hidden behavior on the sphinx rendered scikit-learn.org. See: https://github.com/scikit-learn/scikit-learn/issues/21755 */display: inline-block !important;position: relative;}#sk-container-id-1 div.sk-text-repr-fallback {display: none;}</style><div id=\"sk-container-id-1\" class=\"sk-top-container\"><div class=\"sk-text-repr-fallback\"><pre>RandomForestRegressor(max_depth=5, oob_score=True, random_state=50)</pre><b>In a Jupyter environment, please rerun this cell to show the HTML representation or trust the notebook. <br />On GitHub, the HTML representation is unable to render, please try loading this page with nbviewer.org.</b></div><div class=\"sk-container\" hidden><div class=\"sk-item\"><div class=\"sk-estimator sk-toggleable\"><input class=\"sk-toggleable__control sk-hidden--visually\" id=\"sk-estimator-id-1\" type=\"checkbox\" checked><label for=\"sk-estimator-id-1\" class=\"sk-toggleable__label sk-toggleable__label-arrow\">RandomForestRegressor</label><div class=\"sk-toggleable__content\"><pre>RandomForestRegressor(max_depth=5, oob_score=True, random_state=50)</pre></div></div></div></div></div>"
      ],
      "text/plain": [
       "RandomForestRegressor(max_depth=5, oob_score=True, random_state=50)"
      ]
     },
     "execution_count": 5,
     "metadata": {},
     "output_type": "execute_result"
    }
   ],
   "source": [
    "rf = RandomForestRegressor(max_depth = 5, random_state = 50, oob_score = True)\n",
    "rf.fit(X_train, y_train)"
   ]
  },
  {
   "attachments": {},
   "cell_type": "markdown",
   "metadata": {},
   "source": [
    "Predicting the values for the X testing data"
   ]
  },
  {
   "cell_type": "code",
   "execution_count": 6,
   "metadata": {},
   "outputs": [
    {
     "data": {
      "text/plain": [
       "array([0.53003922, 0.33147254, 0.45533604, 0.37868506, 0.47354437,\n",
       "       0.31495098, 0.68639476, 0.43620549, 0.38377481, 0.58676056,\n",
       "       0.39663033, 0.43997493, 0.30201939, 0.32318153, 0.41953939,\n",
       "       0.31618888, 0.38803983, 0.32954003, 0.53724545, 0.49201948,\n",
       "       0.52193004, 0.30429985, 0.30878588, 0.57310627, 0.48383337])"
      ]
     },
     "execution_count": 6,
     "metadata": {},
     "output_type": "execute_result"
    }
   ],
   "source": [
    "rf.predict(X_test)"
   ]
  },
  {
   "attachments": {},
   "cell_type": "markdown",
   "metadata": {},
   "source": [
    "$R^2$ value"
   ]
  },
  {
   "cell_type": "code",
   "execution_count": 7,
   "metadata": {},
   "outputs": [
    {
     "name": "stdout",
     "output_type": "stream",
     "text": [
      "0.7269980361484302 0.008056871612919009 0.07616489816043366\n"
     ]
    }
   ],
   "source": [
    "r2 = r2_score(y_test, rf.predict(X_test))\n",
    "mse = mean_squared_error(y_test, rf.predict(X_test))\n",
    "mae = mean_absolute_error(y_test, rf.predict(X_test))\n",
    "print(r2, mse, mae)"
   ]
  },
  {
   "cell_type": "code",
   "execution_count": 8,
   "metadata": {},
   "outputs": [
    {
     "data": {
      "image/png": "[encoded data removed]",
      "text/plain": [
       "<Figure size 432x288 with 1 Axes>"
      ]
     },
     "metadata": {
      "needs_background": "light"
     },
     "output_type": "display_data"
    }
   ],
   "source": [
    "X = list(range(len(X_test)))\n",
    "plt.scatter(X, y_test, color='red', alpha=0.5)\n",
    "plt.plot(rf.predict(X_test))\n",
    "plt.show()"
   ]
  }
 ],
 "metadata": {
  "kernelspec": {
   "display_name": "MLEnv",
   "language": "python",
   "name": "python3"
  },
  "language_info": {
   "codemirror_mode": {
    "name": "ipython",
    "version": 3
   },
   "file_extension": ".py",
   "mimetype": "text/x-python",
   "name": "python",
   "nbconvert_exporter": "python",
   "pygments_lexer": "ipython3",
   "version": "3.9.13"
  },
  "orig_nbformat": 4,
  "vscode": {
   "interpreter": {
    "hash": "15eefe1759615b5643544bf1f33002d7de27f1beb1069978b34c5a0fa50f9914"
   }
  }
 },
 "nbformat": 4,
 "nbformat_minor": 2
}
