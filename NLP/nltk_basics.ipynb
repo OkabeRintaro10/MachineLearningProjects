{
 "cells": [
  {
   "cell_type": "code",
   "execution_count": 1,
   "metadata": {},
   "outputs": [],
   "source": [
    "import io\n",
    "import re\n",
    "import nltk\n",
    "from nltk import *\n",
    "from nltk.corpus import stopwords\n",
    "import matplotlib.pyplot as plt"
   ]
  },
  {
   "cell_type": "code",
   "execution_count": 2,
   "metadata": {},
   "outputs": [],
   "source": [
    "testString = \"\"\"This is a sample sentence,\n",
    "                  showing off the stop words filtration.\"\"\"\n",
    "file1 = open(\"NLP/testFile.txt\", \"r\")\n",
    "textFile = file1.read()\n",
    "testString, textFile = testString.lower(), textFile.lower()"
   ]
  },
  {
   "cell_type": "code",
   "execution_count": 24,
   "metadata": {},
   "outputs": [
    {
     "name": "stdout",
     "output_type": "stream",
     "text": [
      "['this', 'is', 'a', 'sample', 'sentence', ',', 'showing', 'off', 'the', 'stop', 'words', 'filtration', '.']\n",
      "The length of cleared File is  13\n"
     ]
    }
   ],
   "source": [
    "wordsString = word_tokenize(testString)\n",
    "print(wordsString)\n",
    "\n",
    "print(\"The length of cleared File is \", len(wordsString))"
   ]
  },
  {
   "cell_type": "code",
   "execution_count": 25,
   "metadata": {},
   "outputs": [
    {
     "name": "stdout",
     "output_type": "stream",
     "text": [
      "['in', 'my', 'younger', 'and', 'more', 'vulnerable', 'years', 'my', 'father', 'gave', 'me', 'some', 'advice', 'that', 'i', '’', 've', 'been', 'turning', 'over', 'in', 'my', 'mind', 'ever', 'since', '.', '“', 'whenever', 'you', 'feel', 'like', 'criticizing', 'anyone', ',', '”', 'he', 'told', 'me', ',', '“', 'just', 'remember', 'that', 'all', 'the', 'people', 'in', 'this', 'world', 'haven', '’', 't', 'had', 'the', 'advantages', 'that', 'you', '’', 've', 'had.', '”', 'he', 'didn', '’', 't', 'say', 'any', 'more', ',', 'but', 'we', '’', 've', 'always', 'been', 'unusually', 'communicative', 'in', 'a', 'reserved', 'way', ',', 'and', 'i', 'understood', 'that', 'he', 'meant', 'a', 'great', 'deal', 'more', 'than', 'that', '.', 'in', 'consequence', ',', 'i', '’', 'm', 'inclined', 'to', 'reserve', 'all', 'judgements', ',', 'a', 'habit', 'that', 'has', 'opened', 'up', 'many', 'curious', 'natures', 'to', 'me', 'and', 'also', 'made', 'me', 'the', 'vi']\n",
      "The length of cleared File is  124\n"
     ]
    }
   ],
   "source": [
    "wordsFile = word_tokenize(textFile)\n",
    "print(wordsFile)\n",
    "\n",
    "print(\"The length of cleared File is \", len(wordsFile))"
   ]
  },
  {
   "cell_type": "code",
   "execution_count": 5,
   "metadata": {},
   "outputs": [
    {
     "data": {
      "text/plain": [
       "[('this', 1),\n",
       " ('is', 1),\n",
       " ('a', 1),\n",
       " ('sample', 1),\n",
       " ('sentence', 1),\n",
       " (',', 1),\n",
       " ('showing', 1),\n",
       " ('off', 1),\n",
       " ('the', 1),\n",
       " ('stop', 1)]"
      ]
     },
     "execution_count": 5,
     "metadata": {},
     "output_type": "execute_result"
    }
   ],
   "source": [
    "fdist = FreqDist(wordsString)\n",
    "fdist.most_common(10)"
   ]
  },
  {
   "cell_type": "code",
   "execution_count": 6,
   "metadata": {},
   "outputs": [
    {
     "data": {
      "text/plain": [
       "[('that', 6),\n",
       " ('’', 6),\n",
       " (',', 6),\n",
       " ('in', 5),\n",
       " ('me', 4),\n",
       " ('my', 3),\n",
       " ('and', 3),\n",
       " ('more', 3),\n",
       " ('i', 3),\n",
       " ('ve', 3)]"
      ]
     },
     "execution_count": 6,
     "metadata": {},
     "output_type": "execute_result"
    }
   ],
   "source": [
    "fdist = FreqDist(wordsFile)\n",
    "fdist.most_common(10)"
   ]
  },
  {
   "cell_type": "code",
   "execution_count": 27,
   "metadata": {},
   "outputs": [
    {
     "name": "stdout",
     "output_type": "stream",
     "text": [
      "['sample', 'sentence', ',', 'showing', 'stop', 'words', 'filtration', '.']\n",
      "The length of cleared File is  8\n"
     ]
    }
   ],
   "source": [
    "stopWords = set(stopwords.words('english'))\n",
    "\n",
    "clearedString = []\n",
    "for i in wordsString:\n",
    "    if i not in stopWords:\n",
    "        clearedString.append(i)\n",
    "print(clearedString)\n",
    "print(\"The length of cleared File is \", len(clearedString))"
   ]
  },
  {
   "cell_type": "code",
   "execution_count": 22,
   "metadata": {},
   "outputs": [
    {
     "name": "stdout",
     "output_type": "stream",
     "text": [
      "['younger', 'vulnerable', 'years', 'father', 'gave', 'advice', '’', 'turning', 'mind', 'ever', 'since', '.', '“', 'whenever', 'feel', 'like', 'criticizing', 'anyone', ',', '”', 'told', ',', '“', 'remember', 'people', 'world', '’', 'advantages', '’', 'had.', '”', '’', 'say', ',', '’', 'always', 'unusually', 'communicative', 'reserved', 'way', ',', 'understood', 'meant', 'great', 'deal', '.', 'consequence', ',', '’', 'inclined', 'reserve', 'judgements', ',', 'habit', 'opened', 'many', 'curious', 'natures', 'also', 'made', 'vi']\n",
      "\n",
      "The length of cleared File is  61\n"
     ]
    }
   ],
   "source": [
    "\n",
    "stopWords = stopwords.words(\"english\")\n",
    "clearedFile = []\n",
    "for i in wordsFile:\n",
    "    if i not in stopWords:\n",
    "        clearedFile.append(i)\n",
    "print(clearedFile)\n",
    "print()\n",
    "print(\"The length of cleared File is \", len(clearedFile))"
   ]
  },
  {
   "cell_type": "code",
   "execution_count": 17,
   "metadata": {},
   "outputs": [
    {
     "data": {
      "text/plain": [
       "[('sample', 1),\n",
       " ('sentence', 1),\n",
       " (',', 1),\n",
       " ('showing', 1),\n",
       " ('stop', 1),\n",
       " ('words', 1),\n",
       " ('filtration', 1),\n",
       " ('.', 1)]"
      ]
     },
     "execution_count": 17,
     "metadata": {},
     "output_type": "execute_result"
    }
   ],
   "source": [
    "fdist = FreqDist(clearedString)\n",
    "fdist.most_common(10)"
   ]
  },
  {
   "cell_type": "code",
   "execution_count": 16,
   "metadata": {},
   "outputs": [
    {
     "data": {
      "image/png": "[encoded data removed]",
      "text/plain": [
       "<Figure size 432x288 with 1 Axes>"
      ]
     },
     "metadata": {
      "needs_background": "light"
     },
     "output_type": "display_data"
    }
   ],
   "source": [
    "fdist.plot(10)\n",
    "plt.show()"
   ]
  },
  {
   "cell_type": "code",
   "execution_count": 23,
   "metadata": {},
   "outputs": [
    {
     "data": {
      "text/plain": [
       "[('’', 6),\n",
       " (',', 6),\n",
       " ('.', 2),\n",
       " ('“', 2),\n",
       " ('”', 2),\n",
       " ('younger', 1),\n",
       " ('vulnerable', 1),\n",
       " ('years', 1),\n",
       " ('father', 1),\n",
       " ('gave', 1)]"
      ]
     },
     "execution_count": 23,
     "metadata": {},
     "output_type": "execute_result"
    }
   ],
   "source": [
    "fdist = FreqDist(clearedFile)\n",
    "fdist.most_common(10)"
   ]
  },
  {
   "cell_type": "code",
   "execution_count": 14,
   "metadata": {},
   "outputs": [
    {
     "data": {
      "image/png": "[encoded data removed]",
      "text/plain": [
       "<Figure size 432x288 with 1 Axes>"
      ]
     },
     "metadata": {
      "needs_background": "light"
     },
     "output_type": "display_data"
    }
   ],
   "source": [
    "fdist.plot(10)\n",
    "plt.show()"
   ]
  },
  {
   "cell_type": "code",
   "execution_count": 13,
   "metadata": {},
   "outputs": [
    {
     "name": "stdout",
     "output_type": "stream",
     "text": [
      "younger : younger\n",
      "vulnerable : vulner\n",
      "years : year\n",
      "father : father\n",
      "gave : gave\n",
      "advice : advic\n",
      "’ : ’\n",
      "turning : turn\n",
      "mind : mind\n",
      "ever : ever\n",
      "since : sinc\n",
      ". : .\n",
      "“ : “\n",
      "whenever : whenev\n",
      "feel : feel\n",
      "like : like\n",
      "criticizing : critic\n",
      "anyone : anyon\n",
      ", : ,\n",
      "” : ”\n",
      "told : told\n",
      ", : ,\n",
      "“ : “\n",
      "remember : rememb\n",
      "people : peopl\n",
      "world : world\n",
      "’ : ’\n",
      "advantages : advantag\n",
      "’ : ’\n",
      "had. : had.\n",
      "” : ”\n",
      "’ : ’\n",
      "say : say\n",
      ", : ,\n",
      "’ : ’\n",
      "always : alway\n",
      "unusually : unusu\n",
      "communicative : commun\n",
      "reserved : reserv\n",
      "way : way\n",
      ", : ,\n",
      "understood : understood\n",
      "meant : meant\n",
      "great : great\n",
      "deal : deal\n",
      ". : .\n",
      "consequence : consequ\n",
      ", : ,\n",
      "’ : ’\n",
      "inclined : inclin\n",
      "reserve : reserv\n",
      "judgements : judgement\n",
      ", : ,\n",
      "habit : habit\n",
      "opened : open\n",
      "many : mani\n",
      "curious : curiou\n",
      "natures : natur\n",
      "also : also\n",
      "made : made\n",
      "vi : vi\n"
     ]
    }
   ],
   "source": [
    "stemming = nltk.stem.PorterStemmer()\n",
    "for words in clearedFile:\n",
    "    print(words, \":\", stemming.stem(words))"
   ]
  },
  {
   "cell_type": "code",
   "execution_count": 29,
   "metadata": {},
   "outputs": [
    {
     "name": "stdout",
     "output_type": "stream",
     "text": [
      "younger : younger\n",
      "vulnerable : vulnerable\n",
      "years : year\n",
      "father : father\n",
      "gave : gave\n",
      "advice : advice\n",
      "’ : ’\n",
      "turning : turning\n",
      "mind : mind\n",
      "ever : ever\n",
      "since : since\n",
      ". : .\n",
      "“ : “\n",
      "whenever : whenever\n",
      "feel : feel\n",
      "like : like\n",
      "criticizing : criticizing\n",
      "anyone : anyone\n",
      ", : ,\n",
      "” : ”\n",
      "told : told\n",
      ", : ,\n",
      "“ : “\n",
      "remember : remember\n",
      "people : people\n",
      "world : world\n",
      "’ : ’\n",
      "advantages : advantage\n",
      "’ : ’\n",
      "had. : had.\n",
      "” : ”\n",
      "’ : ’\n",
      "say : say\n",
      ", : ,\n",
      "’ : ’\n",
      "always : always\n",
      "unusually : unusually\n",
      "communicative : communicative\n",
      "reserved : reserved\n",
      "way : way\n",
      ", : ,\n",
      "understood : understood\n",
      "meant : meant\n",
      "great : great\n",
      "deal : deal\n",
      ". : .\n",
      "consequence : consequence\n",
      ", : ,\n",
      "’ : ’\n",
      "inclined : inclined\n",
      "reserve : reserve\n",
      "judgements : judgement\n",
      ", : ,\n",
      "habit : habit\n",
      "opened : opened\n",
      "many : many\n",
      "curious : curious\n",
      "natures : nature\n",
      "also : also\n",
      "made : made\n",
      "vi : vi\n"
     ]
    }
   ],
   "source": [
    "lemmatizer = nltk.stem.WordNetLemmatizer()\n",
    "for words in clearedFile:\n",
    "    print(words,\":\",lemmatizer.lemmatize(words))"
   ]
  }
 ],
 "metadata": {
  "kernelspec": {
   "display_name": "MLEnv",
   "language": "python",
   "name": "python3"
  },
  "language_info": {
   "codemirror_mode": {
    "name": "ipython",
    "version": 3
   },
   "file_extension": ".py",
   "mimetype": "text/x-python",
   "name": "python",
   "nbconvert_exporter": "python",
   "pygments_lexer": "ipython3",
   "version": "3.9.13 (main, Oct 13 2022, 16:12:19) \n[Clang 12.0.0 ]"
  },
  "orig_nbformat": 4,
  "vscode": {
   "interpreter": {
    "hash": "15eefe1759615b5643544bf1f33002d7de27f1beb1069978b34c5a0fa50f9914"
   }
  }
 },
 "nbformat": 4,
 "nbformat_minor": 2
}
