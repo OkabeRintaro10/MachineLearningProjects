{
 "cells": [
  {
   "cell_type": "code",
   "execution_count": 1,
   "metadata": {},
   "outputs": [
    {
     "name": "stdout",
     "output_type": "stream",
     "text": [
      "[[0.44444444 0.         0.        ]\n",
      " [0.22222222 0.         0.        ]\n",
      " [0.11111111 0.75       0.        ]\n",
      " [0.22222222 0.         0.25      ]\n",
      " [0.         0.25       0.        ]\n",
      " [0.         0.         0.5       ]\n",
      " [0.         0.         1.        ]]\n",
      "[[0.75       0.25       0.         0.        ]\n",
      " [0.11111111 0.33333333 0.11111111 0.44444444]\n",
      " [0.25       0.         0.75       0.        ]\n",
      " [1.         0.         0.         0.        ]]\n"
     ]
    }
   ],
   "source": [
    "import numpy as np\n",
    "Emmision = np.array([[4/9, 0, 0], [2/9, 0, 0],[1/9, 3/4, 0],[2/9, 0, 1/4],[0, 1/4, 0],[0,0,2/4],[0,0,1]])\n",
    "Transistion = np.array([[3/4, 1/4, 0,0],[1/9,3/9,1/9,4/9],[1/4,0,3/4,0],[4/4,0,0,0]])\n",
    "print(Emmision)\n",
    "print(Transistion)"
   ]
  },
  {
   "cell_type": "code",
   "execution_count": 71,
   "metadata": {},
   "outputs": [
    {
     "name": "stdout",
     "output_type": "stream",
     "text": [
      "[[0.44444444 0.         0.        ]]\n",
      "[[0.75 0.25 0.   0.  ]]\n",
      "The Probability is  [0.]\n"
     ]
    }
   ],
   "source": [
    "E_prob = Emmision[np.random.choice(Emmision.shape[0], size = 1, replace=False), :]\n",
    "print(E_prob)\n",
    "T_prob = Transistion[np.random.choice(Transistion.shape[0], size=1, replace=False), :]\n",
    "print(T_prob)\n",
    "Prob = E_prob[:,0]*T_prob[:,0]*E_prob[:,1]*T_prob[:,1]*E_prob[:,2]*T_prob[:,2]*T_prob[:, 3]\n",
    "print(\"The Probability is \",Prob)"
   ]
  },
  {
   "cell_type": "code",
   "execution_count": null,
   "metadata": {},
   "outputs": [],
   "source": [
    "CorrectTags = []\n",
    "_, N = Emmision.shape\n",
    "_, M =Transistion.shape\n",
    "print(N ,M)\n",
    "for i in range(N ** M): \n",
    "    E_prob = Emmision[np.random.choice(Emmision.shape[0], size = 1, replace=False), :]\n",
    "    #print(E_prob)\n",
    "    T_prob = Transistion[np.random.choice(Transistion.shape[0], size=1, replace=False), :]\n",
    "    #print(T_prob)\n",
    "    Prob = E_prob[:,0]*T_prob[:,0]*E_prob[:,1]*T_prob[:,1]*E_prob[:,2]*T_prob[:,2]*T_prob[:, 3]\n",
    "    print(\"The Probability is \",Prob)\n",
    "\n",
    "    if(Prob != 0):\n",
    "        CorrectTags.append(Prob)\n",
    "        print(\"the Probability is \",Prob)\n",
    "        break"
   ]
  }
 ],
 "metadata": {
  "kernelspec": {
   "display_name": "MLEnv",
   "language": "python",
   "name": "python3"
  },
  "language_info": {
   "codemirror_mode": {
    "name": "ipython",
    "version": 3
   },
   "file_extension": ".py",
   "mimetype": "text/x-python",
   "name": "python",
   "nbconvert_exporter": "python",
   "pygments_lexer": "ipython3",
   "version": "3.9.13"
  },
  "orig_nbformat": 4,
  "vscode": {
   "interpreter": {
    "hash": "15eefe1759615b5643544bf1f33002d7de27f1beb1069978b34c5a0fa50f9914"
   }
  }
 },
 "nbformat": 4,
 "nbformat_minor": 2
}
