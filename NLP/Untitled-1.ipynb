{
 "cells": [
  {
   "cell_type": "code",
   "execution_count": null,
   "metadata": {},
   "outputs": [],
   "source": [
    "def freq(str):\n",
    "\n",
    "\t# break the string into list of words\n",
    "\tstr = str.split()\t\t\n",
    "\tstr2 = []\n",
    "\n",
    "\t# loop till string values present in list str\n",
    "\tfor i in str:\t\t\t\n",
    "\n",
    "\t\t# checking for the duplicacy\n",
    "\t\tif i not in str2:\n",
    "\n",
    "\t\t\t# insert value in str2\n",
    "\t\t\tstr2.append(i)\n",
    "\t\t\t\n",
    "\tfor i in range(0, len(str2)):\n",
    "\n",
    "\t\t# count the frequency of each word(present\n",
    "\t\t# in str2) in str and print\n",
    "\t\tprint('Frequency of', str2[i], 'is :', str.count(str2[i]))\n",
    "\n",
    "str ='apple mango apple orange orange apple guava mango mango'\n",
    "freq(str)\t\t\n",
    "\n",
    "print()"
   ]
  },
  {
   "cell_type": "code",
   "execution_count": null,
   "metadata": {},
   "outputs": [],
   "source": [
    "def count(elements):\n",
    "\t# check if each word has '.' at its last. If so then ignore '.'\n",
    "\tif elements[-1] == '.':\n",
    "\t\telements = elements[0:len(elements) - 1]\n",
    "\n",
    "\t# if there exists a key as \"elements\" then simply\n",
    "\t# increase its value.\n",
    "\tif elements in dictionary:\n",
    "\t\tdictionary[elements] += 1\n",
    "\n",
    "\t# if the dictionary does not have the key as \"elements\"\n",
    "\t# then create a key \"elements\" and assign its value to 1.\n",
    "\telse:\n",
    "\t\tdictionary.update({elements: 1})\n",
    "\n",
    "\n",
    "# driver input to check the program.\n",
    "str = \"apple mango apple orange orange apple guava mango mango\"\n",
    "\n",
    "# Declare a dictionary\n",
    "dictionary = {}\n",
    "\n",
    "# split all the word of the string.\n",
    "lst = str.split()\n",
    "\n",
    "# take each word from lst and pass it to the method count.\n",
    "for elements in lst:\n",
    "\tcount(elements)\n",
    "\n",
    "\n",
    "# print the keys and its corresponding values.\n",
    "for allKeys in dictionary:\n",
    "\tprint (\"Frequency of \", allKeys, end = \" \")\n",
    "\tprint (\":\", end = \" \")\n",
    "\tprint (dictionary[allKeys], end = \" \")\n",
    "\tprint()\n"
   ]
  }
 ],
 "metadata": {
  "kernelspec": {
   "display_name": "MLEnv",
   "language": "python",
   "name": "python3"
  },
  "language_info": {
   "name": "python",
   "version": "3.9.13"
  },
  "orig_nbformat": 4,
  "vscode": {
   "interpreter": {
    "hash": "15eefe1759615b5643544bf1f33002d7de27f1beb1069978b34c5a0fa50f9914"
   }
  }
 },
 "nbformat": 4,
 "nbformat_minor": 2
}
