{
 "cells": [
  {
   "cell_type": "code",
   "execution_count": 1,
   "metadata": {},
   "outputs": [],
   "source": [
    "from nltk.tag.sequential import RegexpTagger\n",
    "import nltk\n"
   ]
  },
  {
   "cell_type": "code",
   "execution_count": 2,
   "metadata": {},
   "outputs": [
    {
     "name": "stdout",
     "output_type": "stream",
     "text": [
      "[('India', 'NN'), ('is', 'NN'), ('my', 'NN'), ('country', 'NN'), ('and', 'NN'), ('i', 'NN'), ('love', 'NN'), ('my', 'NN'), ('country', 'NN')]\n"
     ]
    }
   ],
   "source": [
    "raw = 'India is my country and i love my country'\n",
    "tokens = nltk.word_tokenize(raw)\n",
    "default_tagger = nltk.DefaultTagger('NN')\n",
    "print(default_tagger.tag(tokens))"
   ]
  },
  {
   "cell_type": "code",
   "execution_count": 3,
   "metadata": {},
   "outputs": [
    {
     "name": "stdout",
     "output_type": "stream",
     "text": [
      "[('India', 'NN'), ('is', 'NNS'), ('my', 'NN'), ('country', 'NN'), ('and', 'NN'), ('i', 'NN'), ('love', 'NN'), ('my', 'NN'), ('country', 'NN')]\n"
     ]
    }
   ],
   "source": [
    "patterns = [(r'^-?[0-9]+(.[0-9]+)?$', 'CD'),\n",
    "            (r'(The|the|An|an|A|a)$', 'AT'),\n",
    "            (r'.*able$', 'JJ'),\n",
    "            (r'.*ly$', 'JJ'),\n",
    "            (r'.*s$', 'NNS'),\n",
    "            (r'.*ing$', 'VGB'),\n",
    "            (r'.*', 'NN')]\n",
    "regexp_tagger  = RegexpTagger(patterns)\n",
    "print(regexp_tagger.tag(tokens))"
   ]
  }
 ],
 "metadata": {
  "kernelspec": {
   "display_name": "MLEnv",
   "language": "python",
   "name": "python3"
  },
  "language_info": {
   "codemirror_mode": {
    "name": "ipython",
    "version": 3
   },
   "file_extension": ".py",
   "mimetype": "text/x-python",
   "name": "python",
   "nbconvert_exporter": "python",
   "pygments_lexer": "ipython3",
   "version": "3.9.13"
  },
  "orig_nbformat": 4,
  "vscode": {
   "interpreter": {
    "hash": "15eefe1759615b5643544bf1f33002d7de27f1beb1069978b34c5a0fa50f9914"
   }
  }
 },
 "nbformat": 4,
 "nbformat_minor": 2
}
